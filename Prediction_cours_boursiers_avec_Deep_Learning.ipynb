{
  "nbformat": 4,
  "nbformat_minor": 0,
  "metadata": {
    "colab": {
      "provenance": [],
      "gpuType": "T4"
    },
    "kernelspec": {
      "name": "python3",
      "display_name": "Python 3"
    },
    "language_info": {
      "name": "python"
    },
    "accelerator": "GPU"
  },
  "cells": [
    {
      "cell_type": "markdown",
      "source": [
        "# Deep Learning avec Python pour la prédiction boursière\n",
        "\n",
        "Source : https://www.coursera.org/learn/prediction-bourse-python-lstm-streamlit"
      ],
      "metadata": {
        "id": "q2CG6zILnHho"
      }
    },
    {
      "cell_type": "markdown",
      "source": [
        "## Importation des bibliothèques requises"
      ],
      "metadata": {
        "id": "24LWxZBfn6OR"
      }
    },
    {
      "cell_type": "code",
      "source": [
        "# S'assurer de m'être à jour les bibliothèques\n",
        "# Pour executer cette cellules, enlevez les commentaires \"#\"\n",
        "\n",
        "# !pip install --upgrade pandas\n",
        "# !pip install --upgrade pandas-datareader"
      ],
      "metadata": {
        "id": "yyW0D2wFpjIF"
      },
      "execution_count": 1,
      "outputs": []
    },
    {
      "cell_type": "code",
      "source": [
        "import pandas as pd\n",
        "import numpy as np\n",
        "import matplotlib.pyplot as plt\n",
        "import pandas_datareader as data\n",
        "from datetime import datetime\n",
        "import yfinance as yf\n",
        "from keras.layers import Dense, Dropout, LSTM\n",
        "from keras.models import Sequential"
      ],
      "metadata": {
        "id": "d_0Yj7Kvn1rp"
      },
      "execution_count": 2,
      "outputs": []
    },
    {
      "cell_type": "code",
      "source": [
        "#from google.colab import drive\n",
        "#drive.mount('/content/drive')\n",
        "#current_dir = %cd /content/drive/My Drive/Colab Notebooks/"
      ],
      "metadata": {
        "id": "JpNYK2R6oILB"
      },
      "execution_count": 3,
      "outputs": []
    },
    {
      "cell_type": "markdown",
      "source": [
        "## Importation des données boursières"
      ],
      "metadata": {
        "id": "X7Eext84pbG1"
      }
    },
    {
      "cell_type": "code",
      "source": [
        "# Saisir et formater la date d'aujourd'hui sous le format yyyy-mm-dd\n",
        "now = datetime.now()\n",
        "today = now.strftime(\"%Y-%m-%d\")\n",
        "today"
      ],
      "metadata": {
        "colab": {
          "base_uri": "https://localhost:8080/",
          "height": 35
        },
        "id": "pGIj_LSkpvG3",
        "outputId": "dea7f8bb-b065-45f1-ba60-6bdec8230b6b"
      },
      "execution_count": 4,
      "outputs": [
        {
          "output_type": "execute_result",
          "data": {
            "text/plain": [
              "'2023-08-05'"
            ],
            "application/vnd.google.colaboratory.intrinsic+json": {
              "type": "string"
            }
          },
          "metadata": {},
          "execution_count": 4
        }
      ]
    },
    {
      "cell_type": "code",
      "source": [
        "# Parametres\n",
        "ticker = yf.Ticker('SAN.PA') #SAN.PA = Crédit Agricole\n",
        "debut = '2013-09-01'\n",
        "fin = '2023-08-03'\n",
        "df = ticker.history(start=debut, end=today)\n",
        "df.tail()"
      ],
      "metadata": {
        "colab": {
          "base_uri": "https://localhost:8080/",
          "height": 237
        },
        "id": "ByQnCGM2ore1",
        "outputId": "599296a1-a6ca-4608-8c6e-28d6a039905a"
      },
      "execution_count": 66,
      "outputs": [
        {
          "output_type": "execute_result",
          "data": {
            "text/plain": [
              "                                Open       High        Low      Close  \\\n",
              "Date                                                                    \n",
              "2023-07-31 00:00:00+02:00  95.419998  98.080002  95.070000  97.089996   \n",
              "2023-08-01 00:00:00+02:00  97.940002  98.430000  96.580002  96.580002   \n",
              "2023-08-02 00:00:00+02:00  96.029999  96.139999  94.629997  94.870003   \n",
              "2023-08-03 00:00:00+02:00  93.800003  94.110001  91.610001  92.220001   \n",
              "2023-08-04 00:00:00+02:00  93.139999  94.239998  92.790001  93.919998   \n",
              "\n",
              "                            Volume  Dividends  Stock Splits  \n",
              "Date                                                         \n",
              "2023-07-31 00:00:00+02:00  1915709        0.0           0.0  \n",
              "2023-08-01 00:00:00+02:00  1362640        0.0           0.0  \n",
              "2023-08-02 00:00:00+02:00  1606889        0.0           0.0  \n",
              "2023-08-03 00:00:00+02:00  2102457        0.0           0.0  \n",
              "2023-08-04 00:00:00+02:00  1329811        0.0           0.0  "
            ],
            "text/html": [
              "\n",
              "\n",
              "  <div id=\"df-c3fde513-0e93-4213-92d4-89a2af02d947\">\n",
              "    <div class=\"colab-df-container\">\n",
              "      <div>\n",
              "<style scoped>\n",
              "    .dataframe tbody tr th:only-of-type {\n",
              "        vertical-align: middle;\n",
              "    }\n",
              "\n",
              "    .dataframe tbody tr th {\n",
              "        vertical-align: top;\n",
              "    }\n",
              "\n",
              "    .dataframe thead th {\n",
              "        text-align: right;\n",
              "    }\n",
              "</style>\n",
              "<table border=\"1\" class=\"dataframe\">\n",
              "  <thead>\n",
              "    <tr style=\"text-align: right;\">\n",
              "      <th></th>\n",
              "      <th>Open</th>\n",
              "      <th>High</th>\n",
              "      <th>Low</th>\n",
              "      <th>Close</th>\n",
              "      <th>Volume</th>\n",
              "      <th>Dividends</th>\n",
              "      <th>Stock Splits</th>\n",
              "    </tr>\n",
              "    <tr>\n",
              "      <th>Date</th>\n",
              "      <th></th>\n",
              "      <th></th>\n",
              "      <th></th>\n",
              "      <th></th>\n",
              "      <th></th>\n",
              "      <th></th>\n",
              "      <th></th>\n",
              "    </tr>\n",
              "  </thead>\n",
              "  <tbody>\n",
              "    <tr>\n",
              "      <th>2023-07-31 00:00:00+02:00</th>\n",
              "      <td>95.419998</td>\n",
              "      <td>98.080002</td>\n",
              "      <td>95.070000</td>\n",
              "      <td>97.089996</td>\n",
              "      <td>1915709</td>\n",
              "      <td>0.0</td>\n",
              "      <td>0.0</td>\n",
              "    </tr>\n",
              "    <tr>\n",
              "      <th>2023-08-01 00:00:00+02:00</th>\n",
              "      <td>97.940002</td>\n",
              "      <td>98.430000</td>\n",
              "      <td>96.580002</td>\n",
              "      <td>96.580002</td>\n",
              "      <td>1362640</td>\n",
              "      <td>0.0</td>\n",
              "      <td>0.0</td>\n",
              "    </tr>\n",
              "    <tr>\n",
              "      <th>2023-08-02 00:00:00+02:00</th>\n",
              "      <td>96.029999</td>\n",
              "      <td>96.139999</td>\n",
              "      <td>94.629997</td>\n",
              "      <td>94.870003</td>\n",
              "      <td>1606889</td>\n",
              "      <td>0.0</td>\n",
              "      <td>0.0</td>\n",
              "    </tr>\n",
              "    <tr>\n",
              "      <th>2023-08-03 00:00:00+02:00</th>\n",
              "      <td>93.800003</td>\n",
              "      <td>94.110001</td>\n",
              "      <td>91.610001</td>\n",
              "      <td>92.220001</td>\n",
              "      <td>2102457</td>\n",
              "      <td>0.0</td>\n",
              "      <td>0.0</td>\n",
              "    </tr>\n",
              "    <tr>\n",
              "      <th>2023-08-04 00:00:00+02:00</th>\n",
              "      <td>93.139999</td>\n",
              "      <td>94.239998</td>\n",
              "      <td>92.790001</td>\n",
              "      <td>93.919998</td>\n",
              "      <td>1329811</td>\n",
              "      <td>0.0</td>\n",
              "      <td>0.0</td>\n",
              "    </tr>\n",
              "  </tbody>\n",
              "</table>\n",
              "</div>\n",
              "      <button class=\"colab-df-convert\" onclick=\"convertToInteractive('df-c3fde513-0e93-4213-92d4-89a2af02d947')\"\n",
              "              title=\"Convert this dataframe to an interactive table.\"\n",
              "              style=\"display:none;\">\n",
              "\n",
              "  <svg xmlns=\"http://www.w3.org/2000/svg\" height=\"24px\"viewBox=\"0 0 24 24\"\n",
              "       width=\"24px\">\n",
              "    <path d=\"M0 0h24v24H0V0z\" fill=\"none\"/>\n",
              "    <path d=\"M18.56 5.44l.94 2.06.94-2.06 2.06-.94-2.06-.94-.94-2.06-.94 2.06-2.06.94zm-11 1L8.5 8.5l.94-2.06 2.06-.94-2.06-.94L8.5 2.5l-.94 2.06-2.06.94zm10 10l.94 2.06.94-2.06 2.06-.94-2.06-.94-.94-2.06-.94 2.06-2.06.94z\"/><path d=\"M17.41 7.96l-1.37-1.37c-.4-.4-.92-.59-1.43-.59-.52 0-1.04.2-1.43.59L10.3 9.45l-7.72 7.72c-.78.78-.78 2.05 0 2.83L4 21.41c.39.39.9.59 1.41.59.51 0 1.02-.2 1.41-.59l7.78-7.78 2.81-2.81c.8-.78.8-2.07 0-2.86zM5.41 20L4 18.59l7.72-7.72 1.47 1.35L5.41 20z\"/>\n",
              "  </svg>\n",
              "      </button>\n",
              "\n",
              "\n",
              "\n",
              "    <div id=\"df-df252526-75f7-4135-804f-bf6df76cf0a4\">\n",
              "      <button class=\"colab-df-quickchart\" onclick=\"quickchart('df-df252526-75f7-4135-804f-bf6df76cf0a4')\"\n",
              "              title=\"Suggest charts.\"\n",
              "              style=\"display:none;\">\n",
              "\n",
              "<svg xmlns=\"http://www.w3.org/2000/svg\" height=\"24px\"viewBox=\"0 0 24 24\"\n",
              "     width=\"24px\">\n",
              "    <g>\n",
              "        <path d=\"M19 3H5c-1.1 0-2 .9-2 2v14c0 1.1.9 2 2 2h14c1.1 0 2-.9 2-2V5c0-1.1-.9-2-2-2zM9 17H7v-7h2v7zm4 0h-2V7h2v10zm4 0h-2v-4h2v4z\"/>\n",
              "    </g>\n",
              "</svg>\n",
              "      </button>\n",
              "    </div>\n",
              "\n",
              "<style>\n",
              "  .colab-df-quickchart {\n",
              "    background-color: #E8F0FE;\n",
              "    border: none;\n",
              "    border-radius: 50%;\n",
              "    cursor: pointer;\n",
              "    display: none;\n",
              "    fill: #1967D2;\n",
              "    height: 32px;\n",
              "    padding: 0 0 0 0;\n",
              "    width: 32px;\n",
              "  }\n",
              "\n",
              "  .colab-df-quickchart:hover {\n",
              "    background-color: #E2EBFA;\n",
              "    box-shadow: 0px 1px 2px rgba(60, 64, 67, 0.3), 0px 1px 3px 1px rgba(60, 64, 67, 0.15);\n",
              "    fill: #174EA6;\n",
              "  }\n",
              "\n",
              "  [theme=dark] .colab-df-quickchart {\n",
              "    background-color: #3B4455;\n",
              "    fill: #D2E3FC;\n",
              "  }\n",
              "\n",
              "  [theme=dark] .colab-df-quickchart:hover {\n",
              "    background-color: #434B5C;\n",
              "    box-shadow: 0px 1px 3px 1px rgba(0, 0, 0, 0.15);\n",
              "    filter: drop-shadow(0px 1px 2px rgba(0, 0, 0, 0.3));\n",
              "    fill: #FFFFFF;\n",
              "  }\n",
              "</style>\n",
              "\n",
              "    <script>\n",
              "      async function quickchart(key) {\n",
              "        const containerElement = document.querySelector('#' + key);\n",
              "        const charts = await google.colab.kernel.invokeFunction(\n",
              "            'suggestCharts', [key], {});\n",
              "      }\n",
              "    </script>\n",
              "\n",
              "      <script>\n",
              "\n",
              "function displayQuickchartButton(domScope) {\n",
              "  let quickchartButtonEl =\n",
              "    domScope.querySelector('#df-df252526-75f7-4135-804f-bf6df76cf0a4 button.colab-df-quickchart');\n",
              "  quickchartButtonEl.style.display =\n",
              "    google.colab.kernel.accessAllowed ? 'block' : 'none';\n",
              "}\n",
              "\n",
              "        displayQuickchartButton(document);\n",
              "      </script>\n",
              "      <style>\n",
              "    .colab-df-container {\n",
              "      display:flex;\n",
              "      flex-wrap:wrap;\n",
              "      gap: 12px;\n",
              "    }\n",
              "\n",
              "    .colab-df-convert {\n",
              "      background-color: #E8F0FE;\n",
              "      border: none;\n",
              "      border-radius: 50%;\n",
              "      cursor: pointer;\n",
              "      display: none;\n",
              "      fill: #1967D2;\n",
              "      height: 32px;\n",
              "      padding: 0 0 0 0;\n",
              "      width: 32px;\n",
              "    }\n",
              "\n",
              "    .colab-df-convert:hover {\n",
              "      background-color: #E2EBFA;\n",
              "      box-shadow: 0px 1px 2px rgba(60, 64, 67, 0.3), 0px 1px 3px 1px rgba(60, 64, 67, 0.15);\n",
              "      fill: #174EA6;\n",
              "    }\n",
              "\n",
              "    [theme=dark] .colab-df-convert {\n",
              "      background-color: #3B4455;\n",
              "      fill: #D2E3FC;\n",
              "    }\n",
              "\n",
              "    [theme=dark] .colab-df-convert:hover {\n",
              "      background-color: #434B5C;\n",
              "      box-shadow: 0px 1px 3px 1px rgba(0, 0, 0, 0.15);\n",
              "      filter: drop-shadow(0px 1px 2px rgba(0, 0, 0, 0.3));\n",
              "      fill: #FFFFFF;\n",
              "    }\n",
              "  </style>\n",
              "\n",
              "      <script>\n",
              "        const buttonEl =\n",
              "          document.querySelector('#df-c3fde513-0e93-4213-92d4-89a2af02d947 button.colab-df-convert');\n",
              "        buttonEl.style.display =\n",
              "          google.colab.kernel.accessAllowed ? 'block' : 'none';\n",
              "\n",
              "        async function convertToInteractive(key) {\n",
              "          const element = document.querySelector('#df-c3fde513-0e93-4213-92d4-89a2af02d947');\n",
              "          const dataTable =\n",
              "            await google.colab.kernel.invokeFunction('convertToInteractive',\n",
              "                                                     [key], {});\n",
              "          if (!dataTable) return;\n",
              "\n",
              "          const docLinkHtml = 'Like what you see? Visit the ' +\n",
              "            '<a target=\"_blank\" href=https://colab.research.google.com/notebooks/data_table.ipynb>data table notebook</a>'\n",
              "            + ' to learn more about interactive tables.';\n",
              "          element.innerHTML = '';\n",
              "          dataTable['output_type'] = 'display_data';\n",
              "          await google.colab.output.renderOutput(dataTable, element);\n",
              "          const docLink = document.createElement('div');\n",
              "          docLink.innerHTML = docLinkHtml;\n",
              "          element.appendChild(docLink);\n",
              "        }\n",
              "      </script>\n",
              "    </div>\n",
              "  </div>\n"
            ]
          },
          "metadata": {},
          "execution_count": 66
        }
      ]
    },
    {
      "cell_type": "code",
      "source": [
        "# Conversion du format datetime en date\n",
        "df.index = pd.to_datetime(df.index).date\n",
        "df.tail()"
      ],
      "metadata": {
        "colab": {
          "base_uri": "https://localhost:8080/",
          "height": 206
        },
        "id": "ab4da8csy2Pi",
        "outputId": "ac0e91bb-ebec-4d81-d9a2-f664845736ae"
      },
      "execution_count": 65,
      "outputs": [
        {
          "output_type": "execute_result",
          "data": {
            "text/plain": [
              "                 Open       High        Low      Close   Volume  Dividends  \\\n",
              "2023-07-31  95.419998  98.080002  95.070000  97.089996  1915709        0.0   \n",
              "2023-08-01  97.940002  98.430000  96.580002  96.580002  1362640        0.0   \n",
              "2023-08-02  96.029999  96.139999  94.629997  94.870003  1606889        0.0   \n",
              "2023-08-03  93.800003  94.110001  91.610001  92.220001  2102457        0.0   \n",
              "2023-08-04  93.139999  94.239998  92.790001  93.919998  1329811        0.0   \n",
              "\n",
              "            Stock Splits  \n",
              "2023-07-31           0.0  \n",
              "2023-08-01           0.0  \n",
              "2023-08-02           0.0  \n",
              "2023-08-03           0.0  \n",
              "2023-08-04           0.0  "
            ],
            "text/html": [
              "\n",
              "\n",
              "  <div id=\"df-bb71753c-8ecb-49f1-b933-bf8180872ea2\">\n",
              "    <div class=\"colab-df-container\">\n",
              "      <div>\n",
              "<style scoped>\n",
              "    .dataframe tbody tr th:only-of-type {\n",
              "        vertical-align: middle;\n",
              "    }\n",
              "\n",
              "    .dataframe tbody tr th {\n",
              "        vertical-align: top;\n",
              "    }\n",
              "\n",
              "    .dataframe thead th {\n",
              "        text-align: right;\n",
              "    }\n",
              "</style>\n",
              "<table border=\"1\" class=\"dataframe\">\n",
              "  <thead>\n",
              "    <tr style=\"text-align: right;\">\n",
              "      <th></th>\n",
              "      <th>Open</th>\n",
              "      <th>High</th>\n",
              "      <th>Low</th>\n",
              "      <th>Close</th>\n",
              "      <th>Volume</th>\n",
              "      <th>Dividends</th>\n",
              "      <th>Stock Splits</th>\n",
              "    </tr>\n",
              "  </thead>\n",
              "  <tbody>\n",
              "    <tr>\n",
              "      <th>2023-07-31</th>\n",
              "      <td>95.419998</td>\n",
              "      <td>98.080002</td>\n",
              "      <td>95.070000</td>\n",
              "      <td>97.089996</td>\n",
              "      <td>1915709</td>\n",
              "      <td>0.0</td>\n",
              "      <td>0.0</td>\n",
              "    </tr>\n",
              "    <tr>\n",
              "      <th>2023-08-01</th>\n",
              "      <td>97.940002</td>\n",
              "      <td>98.430000</td>\n",
              "      <td>96.580002</td>\n",
              "      <td>96.580002</td>\n",
              "      <td>1362640</td>\n",
              "      <td>0.0</td>\n",
              "      <td>0.0</td>\n",
              "    </tr>\n",
              "    <tr>\n",
              "      <th>2023-08-02</th>\n",
              "      <td>96.029999</td>\n",
              "      <td>96.139999</td>\n",
              "      <td>94.629997</td>\n",
              "      <td>94.870003</td>\n",
              "      <td>1606889</td>\n",
              "      <td>0.0</td>\n",
              "      <td>0.0</td>\n",
              "    </tr>\n",
              "    <tr>\n",
              "      <th>2023-08-03</th>\n",
              "      <td>93.800003</td>\n",
              "      <td>94.110001</td>\n",
              "      <td>91.610001</td>\n",
              "      <td>92.220001</td>\n",
              "      <td>2102457</td>\n",
              "      <td>0.0</td>\n",
              "      <td>0.0</td>\n",
              "    </tr>\n",
              "    <tr>\n",
              "      <th>2023-08-04</th>\n",
              "      <td>93.139999</td>\n",
              "      <td>94.239998</td>\n",
              "      <td>92.790001</td>\n",
              "      <td>93.919998</td>\n",
              "      <td>1329811</td>\n",
              "      <td>0.0</td>\n",
              "      <td>0.0</td>\n",
              "    </tr>\n",
              "  </tbody>\n",
              "</table>\n",
              "</div>\n",
              "      <button class=\"colab-df-convert\" onclick=\"convertToInteractive('df-bb71753c-8ecb-49f1-b933-bf8180872ea2')\"\n",
              "              title=\"Convert this dataframe to an interactive table.\"\n",
              "              style=\"display:none;\">\n",
              "\n",
              "  <svg xmlns=\"http://www.w3.org/2000/svg\" height=\"24px\"viewBox=\"0 0 24 24\"\n",
              "       width=\"24px\">\n",
              "    <path d=\"M0 0h24v24H0V0z\" fill=\"none\"/>\n",
              "    <path d=\"M18.56 5.44l.94 2.06.94-2.06 2.06-.94-2.06-.94-.94-2.06-.94 2.06-2.06.94zm-11 1L8.5 8.5l.94-2.06 2.06-.94-2.06-.94L8.5 2.5l-.94 2.06-2.06.94zm10 10l.94 2.06.94-2.06 2.06-.94-2.06-.94-.94-2.06-.94 2.06-2.06.94z\"/><path d=\"M17.41 7.96l-1.37-1.37c-.4-.4-.92-.59-1.43-.59-.52 0-1.04.2-1.43.59L10.3 9.45l-7.72 7.72c-.78.78-.78 2.05 0 2.83L4 21.41c.39.39.9.59 1.41.59.51 0 1.02-.2 1.41-.59l7.78-7.78 2.81-2.81c.8-.78.8-2.07 0-2.86zM5.41 20L4 18.59l7.72-7.72 1.47 1.35L5.41 20z\"/>\n",
              "  </svg>\n",
              "      </button>\n",
              "\n",
              "\n",
              "\n",
              "    <div id=\"df-50c28bc7-447d-4951-8a34-b7575fdf68af\">\n",
              "      <button class=\"colab-df-quickchart\" onclick=\"quickchart('df-50c28bc7-447d-4951-8a34-b7575fdf68af')\"\n",
              "              title=\"Suggest charts.\"\n",
              "              style=\"display:none;\">\n",
              "\n",
              "<svg xmlns=\"http://www.w3.org/2000/svg\" height=\"24px\"viewBox=\"0 0 24 24\"\n",
              "     width=\"24px\">\n",
              "    <g>\n",
              "        <path d=\"M19 3H5c-1.1 0-2 .9-2 2v14c0 1.1.9 2 2 2h14c1.1 0 2-.9 2-2V5c0-1.1-.9-2-2-2zM9 17H7v-7h2v7zm4 0h-2V7h2v10zm4 0h-2v-4h2v4z\"/>\n",
              "    </g>\n",
              "</svg>\n",
              "      </button>\n",
              "    </div>\n",
              "\n",
              "<style>\n",
              "  .colab-df-quickchart {\n",
              "    background-color: #E8F0FE;\n",
              "    border: none;\n",
              "    border-radius: 50%;\n",
              "    cursor: pointer;\n",
              "    display: none;\n",
              "    fill: #1967D2;\n",
              "    height: 32px;\n",
              "    padding: 0 0 0 0;\n",
              "    width: 32px;\n",
              "  }\n",
              "\n",
              "  .colab-df-quickchart:hover {\n",
              "    background-color: #E2EBFA;\n",
              "    box-shadow: 0px 1px 2px rgba(60, 64, 67, 0.3), 0px 1px 3px 1px rgba(60, 64, 67, 0.15);\n",
              "    fill: #174EA6;\n",
              "  }\n",
              "\n",
              "  [theme=dark] .colab-df-quickchart {\n",
              "    background-color: #3B4455;\n",
              "    fill: #D2E3FC;\n",
              "  }\n",
              "\n",
              "  [theme=dark] .colab-df-quickchart:hover {\n",
              "    background-color: #434B5C;\n",
              "    box-shadow: 0px 1px 3px 1px rgba(0, 0, 0, 0.15);\n",
              "    filter: drop-shadow(0px 1px 2px rgba(0, 0, 0, 0.3));\n",
              "    fill: #FFFFFF;\n",
              "  }\n",
              "</style>\n",
              "\n",
              "    <script>\n",
              "      async function quickchart(key) {\n",
              "        const containerElement = document.querySelector('#' + key);\n",
              "        const charts = await google.colab.kernel.invokeFunction(\n",
              "            'suggestCharts', [key], {});\n",
              "      }\n",
              "    </script>\n",
              "\n",
              "      <script>\n",
              "\n",
              "function displayQuickchartButton(domScope) {\n",
              "  let quickchartButtonEl =\n",
              "    domScope.querySelector('#df-50c28bc7-447d-4951-8a34-b7575fdf68af button.colab-df-quickchart');\n",
              "  quickchartButtonEl.style.display =\n",
              "    google.colab.kernel.accessAllowed ? 'block' : 'none';\n",
              "}\n",
              "\n",
              "        displayQuickchartButton(document);\n",
              "      </script>\n",
              "      <style>\n",
              "    .colab-df-container {\n",
              "      display:flex;\n",
              "      flex-wrap:wrap;\n",
              "      gap: 12px;\n",
              "    }\n",
              "\n",
              "    .colab-df-convert {\n",
              "      background-color: #E8F0FE;\n",
              "      border: none;\n",
              "      border-radius: 50%;\n",
              "      cursor: pointer;\n",
              "      display: none;\n",
              "      fill: #1967D2;\n",
              "      height: 32px;\n",
              "      padding: 0 0 0 0;\n",
              "      width: 32px;\n",
              "    }\n",
              "\n",
              "    .colab-df-convert:hover {\n",
              "      background-color: #E2EBFA;\n",
              "      box-shadow: 0px 1px 2px rgba(60, 64, 67, 0.3), 0px 1px 3px 1px rgba(60, 64, 67, 0.15);\n",
              "      fill: #174EA6;\n",
              "    }\n",
              "\n",
              "    [theme=dark] .colab-df-convert {\n",
              "      background-color: #3B4455;\n",
              "      fill: #D2E3FC;\n",
              "    }\n",
              "\n",
              "    [theme=dark] .colab-df-convert:hover {\n",
              "      background-color: #434B5C;\n",
              "      box-shadow: 0px 1px 3px 1px rgba(0, 0, 0, 0.15);\n",
              "      filter: drop-shadow(0px 1px 2px rgba(0, 0, 0, 0.3));\n",
              "      fill: #FFFFFF;\n",
              "    }\n",
              "  </style>\n",
              "\n",
              "      <script>\n",
              "        const buttonEl =\n",
              "          document.querySelector('#df-bb71753c-8ecb-49f1-b933-bf8180872ea2 button.colab-df-convert');\n",
              "        buttonEl.style.display =\n",
              "          google.colab.kernel.accessAllowed ? 'block' : 'none';\n",
              "\n",
              "        async function convertToInteractive(key) {\n",
              "          const element = document.querySelector('#df-bb71753c-8ecb-49f1-b933-bf8180872ea2');\n",
              "          const dataTable =\n",
              "            await google.colab.kernel.invokeFunction('convertToInteractive',\n",
              "                                                     [key], {});\n",
              "          if (!dataTable) return;\n",
              "\n",
              "          const docLinkHtml = 'Like what you see? Visit the ' +\n",
              "            '<a target=\"_blank\" href=https://colab.research.google.com/notebooks/data_table.ipynb>data table notebook</a>'\n",
              "            + ' to learn more about interactive tables.';\n",
              "          element.innerHTML = '';\n",
              "          dataTable['output_type'] = 'display_data';\n",
              "          await google.colab.output.renderOutput(dataTable, element);\n",
              "          const docLink = document.createElement('div');\n",
              "          docLink.innerHTML = docLinkHtml;\n",
              "          element.appendChild(docLink);\n",
              "        }\n",
              "      </script>\n",
              "    </div>\n",
              "  </div>\n"
            ]
          },
          "metadata": {},
          "execution_count": 65
        }
      ]
    },
    {
      "cell_type": "code",
      "source": [
        "# Visualisation de l'historique\n",
        "plt.figure(figsize=(12,6))\n",
        "plt.plot(df.Close)"
      ],
      "metadata": {
        "colab": {
          "base_uri": "https://localhost:8080/",
          "height": 539
        },
        "id": "kxqk7JV00IWO",
        "outputId": "efa490f6-4f89-4efe-ff9c-5eb592fb8c67"
      },
      "execution_count": 7,
      "outputs": [
        {
          "output_type": "execute_result",
          "data": {
            "text/plain": [
              "[<matplotlib.lines.Line2D at 0x7aa649987550>]"
            ]
          },
          "metadata": {},
          "execution_count": 7
        },
        {
          "output_type": "display_data",
          "data": {
            "text/plain": [
              "<Figure size 1200x600 with 1 Axes>"
            ],
            "image/png": "[encoded data removed]"
          },
          "metadata": {}
        }
      ]
    },
    {
      "cell_type": "markdown",
      "source": [
        "## Nettoyage des données"
      ],
      "metadata": {
        "id": "vijW5krE1p_i"
      }
    },
    {
      "cell_type": "code",
      "source": [
        "# Ajout d'un index de ligne\n",
        "df = df.reset_index()\n",
        "df.head()"
      ],
      "metadata": {
        "colab": {
          "base_uri": "https://localhost:8080/",
          "height": 206
        },
        "id": "PWhV8B-R1rQv",
        "outputId": "a2568adf-9a5b-47b0-e4e7-37b168e53c15"
      },
      "execution_count": 8,
      "outputs": [
        {
          "output_type": "execute_result",
          "data": {
            "text/plain": [
              "        index       Open       High        Low      Close   Volume  Dividends  \\\n",
              "0  2013-09-02  50.457689  51.228142  50.368263  51.179989  1799732        0.0   \n",
              "1  2013-09-03  51.379485  51.386361  49.645967  49.735397  3253420        0.0   \n",
              "2  2013-09-04  49.976156  50.127495  49.185066  49.866089  2919038        0.0   \n",
              "3  2013-09-05  49.907371  50.416418  49.611573  50.113739  2760481        0.0   \n",
              "4  2013-09-06  50.216928  50.952984  50.024316  50.952984  3589555        0.0   \n",
              "\n",
              "   Stock Splits  \n",
              "0           0.0  \n",
              "1           0.0  \n",
              "2           0.0  \n",
              "3           0.0  \n",
              "4           0.0  "
            ],
            "text/html": [
              "\n",
              "\n",
              "  <div id=\"df-e218f053-69c9-4575-be93-97c22d31f2ed\">\n",
              "    <div class=\"colab-df-container\">\n",
              "      <div>\n",
              "<style scoped>\n",
              "    .dataframe tbody tr th:only-of-type {\n",
              "        vertical-align: middle;\n",
              "    }\n",
              "\n",
              "    .dataframe tbody tr th {\n",
              "        vertical-align: top;\n",
              "    }\n",
              "\n",
              "    .dataframe thead th {\n",
              "        text-align: right;\n",
              "    }\n",
              "</style>\n",
              "<table border=\"1\" class=\"dataframe\">\n",
              "  <thead>\n",
              "    <tr style=\"text-align: right;\">\n",
              "      <th></th>\n",
              "      <th>index</th>\n",
              "      <th>Open</th>\n",
              "      <th>High</th>\n",
              "      <th>Low</th>\n",
              "      <th>Close</th>\n",
              "      <th>Volume</th>\n",
              "      <th>Dividends</th>\n",
              "      <th>Stock Splits</th>\n",
              "    </tr>\n",
              "  </thead>\n",
              "  <tbody>\n",
              "    <tr>\n",
              "      <th>0</th>\n",
              "      <td>2013-09-02</td>\n",
              "      <td>50.457689</td>\n",
              "      <td>51.228142</td>\n",
              "      <td>50.368263</td>\n",
              "      <td>51.179989</td>\n",
              "      <td>1799732</td>\n",
              "      <td>0.0</td>\n",
              "      <td>0.0</td>\n",
              "    </tr>\n",
              "    <tr>\n",
              "      <th>1</th>\n",
              "      <td>2013-09-03</td>\n",
              "      <td>51.379485</td>\n",
              "      <td>51.386361</td>\n",
              "      <td>49.645967</td>\n",
              "      <td>49.735397</td>\n",
              "      <td>3253420</td>\n",
              "      <td>0.0</td>\n",
              "      <td>0.0</td>\n",
              "    </tr>\n",
              "    <tr>\n",
              "      <th>2</th>\n",
              "      <td>2013-09-04</td>\n",
              "      <td>49.976156</td>\n",
              "      <td>50.127495</td>\n",
              "      <td>49.185066</td>\n",
              "      <td>49.866089</td>\n",
              "      <td>2919038</td>\n",
              "      <td>0.0</td>\n",
              "      <td>0.0</td>\n",
              "    </tr>\n",
              "    <tr>\n",
              "      <th>3</th>\n",
              "      <td>2013-09-05</td>\n",
              "      <td>49.907371</td>\n",
              "      <td>50.416418</td>\n",
              "      <td>49.611573</td>\n",
              "      <td>50.113739</td>\n",
              "      <td>2760481</td>\n",
              "      <td>0.0</td>\n",
              "      <td>0.0</td>\n",
              "    </tr>\n",
              "    <tr>\n",
              "      <th>4</th>\n",
              "      <td>2013-09-06</td>\n",
              "      <td>50.216928</td>\n",
              "      <td>50.952984</td>\n",
              "      <td>50.024316</td>\n",
              "      <td>50.952984</td>\n",
              "      <td>3589555</td>\n",
              "      <td>0.0</td>\n",
              "      <td>0.0</td>\n",
              "    </tr>\n",
              "  </tbody>\n",
              "</table>\n",
              "</div>\n",
              "      <button class=\"colab-df-convert\" onclick=\"convertToInteractive('df-e218f053-69c9-4575-be93-97c22d31f2ed')\"\n",
              "              title=\"Convert this dataframe to an interactive table.\"\n",
              "              style=\"display:none;\">\n",
              "\n",
              "  <svg xmlns=\"http://www.w3.org/2000/svg\" height=\"24px\"viewBox=\"0 0 24 24\"\n",
              "       width=\"24px\">\n",
              "    <path d=\"M0 0h24v24H0V0z\" fill=\"none\"/>\n",
              "    <path d=\"M18.56 5.44l.94 2.06.94-2.06 2.06-.94-2.06-.94-.94-2.06-.94 2.06-2.06.94zm-11 1L8.5 8.5l.94-2.06 2.06-.94-2.06-.94L8.5 2.5l-.94 2.06-2.06.94zm10 10l.94 2.06.94-2.06 2.06-.94-2.06-.94-.94-2.06-.94 2.06-2.06.94z\"/><path d=\"M17.41 7.96l-1.37-1.37c-.4-.4-.92-.59-1.43-.59-.52 0-1.04.2-1.43.59L10.3 9.45l-7.72 7.72c-.78.78-.78 2.05 0 2.83L4 21.41c.39.39.9.59 1.41.59.51 0 1.02-.2 1.41-.59l7.78-7.78 2.81-2.81c.8-.78.8-2.07 0-2.86zM5.41 20L4 18.59l7.72-7.72 1.47 1.35L5.41 20z\"/>\n",
              "  </svg>\n",
              "      </button>\n",
              "\n",
              "\n",
              "\n",
              "    <div id=\"df-c9051033-b848-4b3a-a2c6-bc1dea692847\">\n",
              "      <button class=\"colab-df-quickchart\" onclick=\"quickchart('df-c9051033-b848-4b3a-a2c6-bc1dea692847')\"\n",
              "              title=\"Suggest charts.\"\n",
              "              style=\"display:none;\">\n",
              "\n",
              "<svg xmlns=\"http://www.w3.org/2000/svg\" height=\"24px\"viewBox=\"0 0 24 24\"\n",
              "     width=\"24px\">\n",
              "    <g>\n",
              "        <path d=\"M19 3H5c-1.1 0-2 .9-2 2v14c0 1.1.9 2 2 2h14c1.1 0 2-.9 2-2V5c0-1.1-.9-2-2-2zM9 17H7v-7h2v7zm4 0h-2V7h2v10zm4 0h-2v-4h2v4z\"/>\n",
              "    </g>\n",
              "</svg>\n",
              "      </button>\n",
              "    </div>\n",
              "\n",
              "<style>\n",
              "  .colab-df-quickchart {\n",
              "    background-color: #E8F0FE;\n",
              "    border: none;\n",
              "    border-radius: 50%;\n",
              "    cursor: pointer;\n",
              "    display: none;\n",
              "    fill: #1967D2;\n",
              "    height: 32px;\n",
              "    padding: 0 0 0 0;\n",
              "    width: 32px;\n",
              "  }\n",
              "\n",
              "  .colab-df-quickchart:hover {\n",
              "    background-color: #E2EBFA;\n",
              "    box-shadow: 0px 1px 2px rgba(60, 64, 67, 0.3), 0px 1px 3px 1px rgba(60, 64, 67, 0.15);\n",
              "    fill: #174EA6;\n",
              "  }\n",
              "\n",
              "  [theme=dark] .colab-df-quickchart {\n",
              "    background-color: #3B4455;\n",
              "    fill: #D2E3FC;\n",
              "  }\n",
              "\n",
              "  [theme=dark] .colab-df-quickchart:hover {\n",
              "    background-color: #434B5C;\n",
              "    box-shadow: 0px 1px 3px 1px rgba(0, 0, 0, 0.15);\n",
              "    filter: drop-shadow(0px 1px 2px rgba(0, 0, 0, 0.3));\n",
              "    fill: #FFFFFF;\n",
              "  }\n",
              "</style>\n",
              "\n",
              "    <script>\n",
              "      async function quickchart(key) {\n",
              "        const containerElement = document.querySelector('#' + key);\n",
              "        const charts = await google.colab.kernel.invokeFunction(\n",
              "            'suggestCharts', [key], {});\n",
              "      }\n",
              "    </script>\n",
              "\n",
              "      <script>\n",
              "\n",
              "function displayQuickchartButton(domScope) {\n",
              "  let quickchartButtonEl =\n",
              "    domScope.querySelector('#df-c9051033-b848-4b3a-a2c6-bc1dea692847 button.colab-df-quickchart');\n",
              "  quickchartButtonEl.style.display =\n",
              "    google.colab.kernel.accessAllowed ? 'block' : 'none';\n",
              "}\n",
              "\n",
              "        displayQuickchartButton(document);\n",
              "      </script>\n",
              "      <style>\n",
              "    .colab-df-container {\n",
              "      display:flex;\n",
              "      flex-wrap:wrap;\n",
              "      gap: 12px;\n",
              "    }\n",
              "\n",
              "    .colab-df-convert {\n",
              "      background-color: #E8F0FE;\n",
              "      border: none;\n",
              "      border-radius: 50%;\n",
              "      cursor: pointer;\n",
              "      display: none;\n",
              "      fill: #1967D2;\n",
              "      height: 32px;\n",
              "      padding: 0 0 0 0;\n",
              "      width: 32px;\n",
              "    }\n",
              "\n",
              "    .colab-df-convert:hover {\n",
              "      background-color: #E2EBFA;\n",
              "      box-shadow: 0px 1px 2px rgba(60, 64, 67, 0.3), 0px 1px 3px 1px rgba(60, 64, 67, 0.15);\n",
              "      fill: #174EA6;\n",
              "    }\n",
              "\n",
              "    [theme=dark] .colab-df-convert {\n",
              "      background-color: #3B4455;\n",
              "      fill: #D2E3FC;\n",
              "    }\n",
              "\n",
              "    [theme=dark] .colab-df-convert:hover {\n",
              "      background-color: #434B5C;\n",
              "      box-shadow: 0px 1px 3px 1px rgba(0, 0, 0, 0.15);\n",
              "      filter: drop-shadow(0px 1px 2px rgba(0, 0, 0, 0.3));\n",
              "      fill: #FFFFFF;\n",
              "    }\n",
              "  </style>\n",
              "\n",
              "      <script>\n",
              "        const buttonEl =\n",
              "          document.querySelector('#df-e218f053-69c9-4575-be93-97c22d31f2ed button.colab-df-convert');\n",
              "        buttonEl.style.display =\n",
              "          google.colab.kernel.accessAllowed ? 'block' : 'none';\n",
              "\n",
              "        async function convertToInteractive(key) {\n",
              "          const element = document.querySelector('#df-e218f053-69c9-4575-be93-97c22d31f2ed');\n",
              "          const dataTable =\n",
              "            await google.colab.kernel.invokeFunction('convertToInteractive',\n",
              "                                                     [key], {});\n",
              "          if (!dataTable) return;\n",
              "\n",
              "          const docLinkHtml = 'Like what you see? Visit the ' +\n",
              "            '<a target=\"_blank\" href=https://colab.research.google.com/notebooks/data_table.ipynb>data table notebook</a>'\n",
              "            + ' to learn more about interactive tables.';\n",
              "          element.innerHTML = '';\n",
              "          dataTable['output_type'] = 'display_data';\n",
              "          await google.colab.output.renderOutput(dataTable, element);\n",
              "          const docLink = document.createElement('div');\n",
              "          docLink.innerHTML = docLinkHtml;\n",
              "          element.appendChild(docLink);\n",
              "        }\n",
              "      </script>\n",
              "    </div>\n",
              "  </div>\n"
            ]
          },
          "metadata": {},
          "execution_count": 8
        }
      ]
    },
    {
      "cell_type": "code",
      "source": [
        "# Suppression des colonnes inutiles\n",
        "df.info()\n",
        "df = df.drop(['Dividends','Stock Splits'], axis=1)"
      ],
      "metadata": {
        "colab": {
          "base_uri": "https://localhost:8080/"
        },
        "id": "_M7UroSJ2BW3",
        "outputId": "2d66976e-ab26-4631-fb5c-11694fd0accb"
      },
      "execution_count": 9,
      "outputs": [
        {
          "output_type": "stream",
          "name": "stdout",
          "text": [
            "<class 'pandas.core.frame.DataFrame'>\n",
            "RangeIndex: 2540 entries, 0 to 2539\n",
            "Data columns (total 8 columns):\n",
            " #   Column        Non-Null Count  Dtype  \n",
            "---  ------        --------------  -----  \n",
            " 0   index         2540 non-null   object \n",
            " 1   Open          2540 non-null   float64\n",
            " 2   High          2540 non-null   float64\n",
            " 3   Low           2540 non-null   float64\n",
            " 4   Close         2540 non-null   float64\n",
            " 5   Volume        2540 non-null   int64  \n",
            " 6   Dividends     2540 non-null   float64\n",
            " 7   Stock Splits  2540 non-null   float64\n",
            "dtypes: float64(6), int64(1), object(1)\n",
            "memory usage: 158.9+ KB\n"
          ]
        }
      ]
    },
    {
      "cell_type": "code",
      "source": [
        "df.tail()"
      ],
      "metadata": {
        "colab": {
          "base_uri": "https://localhost:8080/",
          "height": 206
        },
        "id": "WX_jka612t89",
        "outputId": "8cfb2095-276f-4e81-93c8-fb0f384ff124"
      },
      "execution_count": 10,
      "outputs": [
        {
          "output_type": "execute_result",
          "data": {
            "text/plain": [
              "           index       Open       High        Low      Close   Volume\n",
              "2535  2023-07-27  97.080002  98.199997  96.779999  97.750000  1423525\n",
              "2536  2023-07-28  97.209999  97.550003  93.750000  94.959999  2354562\n",
              "2537  2023-07-31  95.419998  98.080002  95.070000  97.089996  1915709\n",
              "2538  2023-08-01  97.940002  98.430000  96.580002  96.580002  1362640\n",
              "2539  2023-08-02  96.029999  96.139999  94.629997  94.870003  1606889"
            ],
            "text/html": [
              "\n",
              "\n",
              "  <div id=\"df-31ea8709-e12b-4f22-88e0-4cf14d1caaab\">\n",
              "    <div class=\"colab-df-container\">\n",
              "      <div>\n",
              "<style scoped>\n",
              "    .dataframe tbody tr th:only-of-type {\n",
              "        vertical-align: middle;\n",
              "    }\n",
              "\n",
              "    .dataframe tbody tr th {\n",
              "        vertical-align: top;\n",
              "    }\n",
              "\n",
              "    .dataframe thead th {\n",
              "        text-align: right;\n",
              "    }\n",
              "</style>\n",
              "<table border=\"1\" class=\"dataframe\">\n",
              "  <thead>\n",
              "    <tr style=\"text-align: right;\">\n",
              "      <th></th>\n",
              "      <th>index</th>\n",
              "      <th>Open</th>\n",
              "      <th>High</th>\n",
              "      <th>Low</th>\n",
              "      <th>Close</th>\n",
              "      <th>Volume</th>\n",
              "    </tr>\n",
              "  </thead>\n",
              "  <tbody>\n",
              "    <tr>\n",
              "      <th>2535</th>\n",
              "      <td>2023-07-27</td>\n",
              "      <td>97.080002</td>\n",
              "      <td>98.199997</td>\n",
              "      <td>96.779999</td>\n",
              "      <td>97.750000</td>\n",
              "      <td>1423525</td>\n",
              "    </tr>\n",
              "    <tr>\n",
              "      <th>2536</th>\n",
              "      <td>2023-07-28</td>\n",
              "      <td>97.209999</td>\n",
              "      <td>97.550003</td>\n",
              "      <td>93.750000</td>\n",
              "      <td>94.959999</td>\n",
              "      <td>2354562</td>\n",
              "    </tr>\n",
              "    <tr>\n",
              "      <th>2537</th>\n",
              "      <td>2023-07-31</td>\n",
              "      <td>95.419998</td>\n",
              "      <td>98.080002</td>\n",
              "      <td>95.070000</td>\n",
              "      <td>97.089996</td>\n",
              "      <td>1915709</td>\n",
              "    </tr>\n",
              "    <tr>\n",
              "      <th>2538</th>\n",
              "      <td>2023-08-01</td>\n",
              "      <td>97.940002</td>\n",
              "      <td>98.430000</td>\n",
              "      <td>96.580002</td>\n",
              "      <td>96.580002</td>\n",
              "      <td>1362640</td>\n",
              "    </tr>\n",
              "    <tr>\n",
              "      <th>2539</th>\n",
              "      <td>2023-08-02</td>\n",
              "      <td>96.029999</td>\n",
              "      <td>96.139999</td>\n",
              "      <td>94.629997</td>\n",
              "      <td>94.870003</td>\n",
              "      <td>1606889</td>\n",
              "    </tr>\n",
              "  </tbody>\n",
              "</table>\n",
              "</div>\n",
              "      <button class=\"colab-df-convert\" onclick=\"convertToInteractive('df-31ea8709-e12b-4f22-88e0-4cf14d1caaab')\"\n",
              "              title=\"Convert this dataframe to an interactive table.\"\n",
              "              style=\"display:none;\">\n",
              "\n",
              "  <svg xmlns=\"http://www.w3.org/2000/svg\" height=\"24px\"viewBox=\"0 0 24 24\"\n",
              "       width=\"24px\">\n",
              "    <path d=\"M0 0h24v24H0V0z\" fill=\"none\"/>\n",
              "    <path d=\"M18.56 5.44l.94 2.06.94-2.06 2.06-.94-2.06-.94-.94-2.06-.94 2.06-2.06.94zm-11 1L8.5 8.5l.94-2.06 2.06-.94-2.06-.94L8.5 2.5l-.94 2.06-2.06.94zm10 10l.94 2.06.94-2.06 2.06-.94-2.06-.94-.94-2.06-.94 2.06-2.06.94z\"/><path d=\"M17.41 7.96l-1.37-1.37c-.4-.4-.92-.59-1.43-.59-.52 0-1.04.2-1.43.59L10.3 9.45l-7.72 7.72c-.78.78-.78 2.05 0 2.83L4 21.41c.39.39.9.59 1.41.59.51 0 1.02-.2 1.41-.59l7.78-7.78 2.81-2.81c.8-.78.8-2.07 0-2.86zM5.41 20L4 18.59l7.72-7.72 1.47 1.35L5.41 20z\"/>\n",
              "  </svg>\n",
              "      </button>\n",
              "\n",
              "\n",
              "\n",
              "    <div id=\"df-400b4c91-23a1-471d-8460-c058eab0c3f1\">\n",
              "      <button class=\"colab-df-quickchart\" onclick=\"quickchart('df-400b4c91-23a1-471d-8460-c058eab0c3f1')\"\n",
              "              title=\"Suggest charts.\"\n",
              "              style=\"display:none;\">\n",
              "\n",
              "<svg xmlns=\"http://www.w3.org/2000/svg\" height=\"24px\"viewBox=\"0 0 24 24\"\n",
              "     width=\"24px\">\n",
              "    <g>\n",
              "        <path d=\"M19 3H5c-1.1 0-2 .9-2 2v14c0 1.1.9 2 2 2h14c1.1 0 2-.9 2-2V5c0-1.1-.9-2-2-2zM9 17H7v-7h2v7zm4 0h-2V7h2v10zm4 0h-2v-4h2v4z\"/>\n",
              "    </g>\n",
              "</svg>\n",
              "      </button>\n",
              "    </div>\n",
              "\n",
              "<style>\n",
              "  .colab-df-quickchart {\n",
              "    background-color: #E8F0FE;\n",
              "    border: none;\n",
              "    border-radius: 50%;\n",
              "    cursor: pointer;\n",
              "    display: none;\n",
              "    fill: #1967D2;\n",
              "    height: 32px;\n",
              "    padding: 0 0 0 0;\n",
              "    width: 32px;\n",
              "  }\n",
              "\n",
              "  .colab-df-quickchart:hover {\n",
              "    background-color: #E2EBFA;\n",
              "    box-shadow: 0px 1px 2px rgba(60, 64, 67, 0.3), 0px 1px 3px 1px rgba(60, 64, 67, 0.15);\n",
              "    fill: #174EA6;\n",
              "  }\n",
              "\n",
              "  [theme=dark] .colab-df-quickchart {\n",
              "    background-color: #3B4455;\n",
              "    fill: #D2E3FC;\n",
              "  }\n",
              "\n",
              "  [theme=dark] .colab-df-quickchart:hover {\n",
              "    background-color: #434B5C;\n",
              "    box-shadow: 0px 1px 3px 1px rgba(0, 0, 0, 0.15);\n",
              "    filter: drop-shadow(0px 1px 2px rgba(0, 0, 0, 0.3));\n",
              "    fill: #FFFFFF;\n",
              "  }\n",
              "</style>\n",
              "\n",
              "    <script>\n",
              "      async function quickchart(key) {\n",
              "        const containerElement = document.querySelector('#' + key);\n",
              "        const charts = await google.colab.kernel.invokeFunction(\n",
              "            'suggestCharts', [key], {});\n",
              "      }\n",
              "    </script>\n",
              "\n",
              "      <script>\n",
              "\n",
              "function displayQuickchartButton(domScope) {\n",
              "  let quickchartButtonEl =\n",
              "    domScope.querySelector('#df-400b4c91-23a1-471d-8460-c058eab0c3f1 button.colab-df-quickchart');\n",
              "  quickchartButtonEl.style.display =\n",
              "    google.colab.kernel.accessAllowed ? 'block' : 'none';\n",
              "}\n",
              "\n",
              "        displayQuickchartButton(document);\n",
              "      </script>\n",
              "      <style>\n",
              "    .colab-df-container {\n",
              "      display:flex;\n",
              "      flex-wrap:wrap;\n",
              "      gap: 12px;\n",
              "    }\n",
              "\n",
              "    .colab-df-convert {\n",
              "      background-color: #E8F0FE;\n",
              "      border: none;\n",
              "      border-radius: 50%;\n",
              "      cursor: pointer;\n",
              "      display: none;\n",
              "      fill: #1967D2;\n",
              "      height: 32px;\n",
              "      padding: 0 0 0 0;\n",
              "      width: 32px;\n",
              "    }\n",
              "\n",
              "    .colab-df-convert:hover {\n",
              "      background-color: #E2EBFA;\n",
              "      box-shadow: 0px 1px 2px rgba(60, 64, 67, 0.3), 0px 1px 3px 1px rgba(60, 64, 67, 0.15);\n",
              "      fill: #174EA6;\n",
              "    }\n",
              "\n",
              "    [theme=dark] .colab-df-convert {\n",
              "      background-color: #3B4455;\n",
              "      fill: #D2E3FC;\n",
              "    }\n",
              "\n",
              "    [theme=dark] .colab-df-convert:hover {\n",
              "      background-color: #434B5C;\n",
              "      box-shadow: 0px 1px 3px 1px rgba(0, 0, 0, 0.15);\n",
              "      filter: drop-shadow(0px 1px 2px rgba(0, 0, 0, 0.3));\n",
              "      fill: #FFFFFF;\n",
              "    }\n",
              "  </style>\n",
              "\n",
              "      <script>\n",
              "        const buttonEl =\n",
              "          document.querySelector('#df-31ea8709-e12b-4f22-88e0-4cf14d1caaab button.colab-df-convert');\n",
              "        buttonEl.style.display =\n",
              "          google.colab.kernel.accessAllowed ? 'block' : 'none';\n",
              "\n",
              "        async function convertToInteractive(key) {\n",
              "          const element = document.querySelector('#df-31ea8709-e12b-4f22-88e0-4cf14d1caaab');\n",
              "          const dataTable =\n",
              "            await google.colab.kernel.invokeFunction('convertToInteractive',\n",
              "                                                     [key], {});\n",
              "          if (!dataTable) return;\n",
              "\n",
              "          const docLinkHtml = 'Like what you see? Visit the ' +\n",
              "            '<a target=\"_blank\" href=https://colab.research.google.com/notebooks/data_table.ipynb>data table notebook</a>'\n",
              "            + ' to learn more about interactive tables.';\n",
              "          element.innerHTML = '';\n",
              "          dataTable['output_type'] = 'display_data';\n",
              "          await google.colab.output.renderOutput(dataTable, element);\n",
              "          const docLink = document.createElement('div');\n",
              "          docLink.innerHTML = docLinkHtml;\n",
              "          element.appendChild(docLink);\n",
              "        }\n",
              "      </script>\n",
              "    </div>\n",
              "  </div>\n"
            ]
          },
          "metadata": {},
          "execution_count": 10
        }
      ]
    },
    {
      "cell_type": "code",
      "source": [
        " # Description statistique des colonnes numériques\n",
        " df.describe()"
      ],
      "metadata": {
        "colab": {
          "base_uri": "https://localhost:8080/",
          "height": 300
        },
        "id": "HRz7C-Us2ysA",
        "outputId": "96956c05-ee80-40e2-b625-97aba77e7cd6"
      },
      "execution_count": 11,
      "outputs": [
        {
          "output_type": "execute_result",
          "data": {
            "text/plain": [
              "              Open         High          Low        Close        Volume\n",
              "count  2540.000000  2540.000000  2540.000000  2540.000000  2.540000e+03\n",
              "mean     68.233588    68.852080    67.608028    68.239057  2.490612e+06\n",
              "std      12.886955    13.017435    12.757139    12.899424  1.188335e+06\n",
              "min      48.400862    48.717297    46.976898    47.740471  0.000000e+00\n",
              "25%      57.417120    57.952966    56.813365    57.400637  1.786728e+06\n",
              "50%      65.415755    66.036407    64.838177    65.348053  2.254754e+06\n",
              "75%      78.349599    78.958226    77.673862    78.416634  2.914815e+06\n",
              "max     100.508961   101.395859    99.853426   100.856010  1.593795e+07"
            ],
            "text/html": [
              "\n",
              "\n",
              "  <div id=\"df-3636f6c7-c4c4-4189-b73d-ceb8f0264a3a\">\n",
              "    <div class=\"colab-df-container\">\n",
              "      <div>\n",
              "<style scoped>\n",
              "    .dataframe tbody tr th:only-of-type {\n",
              "        vertical-align: middle;\n",
              "    }\n",
              "\n",
              "    .dataframe tbody tr th {\n",
              "        vertical-align: top;\n",
              "    }\n",
              "\n",
              "    .dataframe thead th {\n",
              "        text-align: right;\n",
              "    }\n",
              "</style>\n",
              "<table border=\"1\" class=\"dataframe\">\n",
              "  <thead>\n",
              "    <tr style=\"text-align: right;\">\n",
              "      <th></th>\n",
              "      <th>Open</th>\n",
              "      <th>High</th>\n",
              "      <th>Low</th>\n",
              "      <th>Close</th>\n",
              "      <th>Volume</th>\n",
              "    </tr>\n",
              "  </thead>\n",
              "  <tbody>\n",
              "    <tr>\n",
              "      <th>count</th>\n",
              "      <td>2540.000000</td>\n",
              "      <td>2540.000000</td>\n",
              "      <td>2540.000000</td>\n",
              "      <td>2540.000000</td>\n",
              "      <td>2.540000e+03</td>\n",
              "    </tr>\n",
              "    <tr>\n",
              "      <th>mean</th>\n",
              "      <td>68.233588</td>\n",
              "      <td>68.852080</td>\n",
              "      <td>67.608028</td>\n",
              "      <td>68.239057</td>\n",
              "      <td>2.490612e+06</td>\n",
              "    </tr>\n",
              "    <tr>\n",
              "      <th>std</th>\n",
              "      <td>12.886955</td>\n",
              "      <td>13.017435</td>\n",
              "      <td>12.757139</td>\n",
              "      <td>12.899424</td>\n",
              "      <td>1.188335e+06</td>\n",
              "    </tr>\n",
              "    <tr>\n",
              "      <th>min</th>\n",
              "      <td>48.400862</td>\n",
              "      <td>48.717297</td>\n",
              "      <td>46.976898</td>\n",
              "      <td>47.740471</td>\n",
              "      <td>0.000000e+00</td>\n",
              "    </tr>\n",
              "    <tr>\n",
              "      <th>25%</th>\n",
              "      <td>57.417120</td>\n",
              "      <td>57.952966</td>\n",
              "      <td>56.813365</td>\n",
              "      <td>57.400637</td>\n",
              "      <td>1.786728e+06</td>\n",
              "    </tr>\n",
              "    <tr>\n",
              "      <th>50%</th>\n",
              "      <td>65.415755</td>\n",
              "      <td>66.036407</td>\n",
              "      <td>64.838177</td>\n",
              "      <td>65.348053</td>\n",
              "      <td>2.254754e+06</td>\n",
              "    </tr>\n",
              "    <tr>\n",
              "      <th>75%</th>\n",
              "      <td>78.349599</td>\n",
              "      <td>78.958226</td>\n",
              "      <td>77.673862</td>\n",
              "      <td>78.416634</td>\n",
              "      <td>2.914815e+06</td>\n",
              "    </tr>\n",
              "    <tr>\n",
              "      <th>max</th>\n",
              "      <td>100.508961</td>\n",
              "      <td>101.395859</td>\n",
              "      <td>99.853426</td>\n",
              "      <td>100.856010</td>\n",
              "      <td>1.593795e+07</td>\n",
              "    </tr>\n",
              "  </tbody>\n",
              "</table>\n",
              "</div>\n",
              "      <button class=\"colab-df-convert\" onclick=\"convertToInteractive('df-3636f6c7-c4c4-4189-b73d-ceb8f0264a3a')\"\n",
              "              title=\"Convert this dataframe to an interactive table.\"\n",
              "              style=\"display:none;\">\n",
              "\n",
              "  <svg xmlns=\"http://www.w3.org/2000/svg\" height=\"24px\"viewBox=\"0 0 24 24\"\n",
              "       width=\"24px\">\n",
              "    <path d=\"M0 0h24v24H0V0z\" fill=\"none\"/>\n",
              "    <path d=\"M18.56 5.44l.94 2.06.94-2.06 2.06-.94-2.06-.94-.94-2.06-.94 2.06-2.06.94zm-11 1L8.5 8.5l.94-2.06 2.06-.94-2.06-.94L8.5 2.5l-.94 2.06-2.06.94zm10 10l.94 2.06.94-2.06 2.06-.94-2.06-.94-.94-2.06-.94 2.06-2.06.94z\"/><path d=\"M17.41 7.96l-1.37-1.37c-.4-.4-.92-.59-1.43-.59-.52 0-1.04.2-1.43.59L10.3 9.45l-7.72 7.72c-.78.78-.78 2.05 0 2.83L4 21.41c.39.39.9.59 1.41.59.51 0 1.02-.2 1.41-.59l7.78-7.78 2.81-2.81c.8-.78.8-2.07 0-2.86zM5.41 20L4 18.59l7.72-7.72 1.47 1.35L5.41 20z\"/>\n",
              "  </svg>\n",
              "      </button>\n",
              "\n",
              "\n",
              "\n",
              "    <div id=\"df-b3f148b7-b3fe-456a-b139-eb36c2fef3de\">\n",
              "      <button class=\"colab-df-quickchart\" onclick=\"quickchart('df-b3f148b7-b3fe-456a-b139-eb36c2fef3de')\"\n",
              "              title=\"Suggest charts.\"\n",
              "              style=\"display:none;\">\n",
              "\n",
              "<svg xmlns=\"http://www.w3.org/2000/svg\" height=\"24px\"viewBox=\"0 0 24 24\"\n",
              "     width=\"24px\">\n",
              "    <g>\n",
              "        <path d=\"M19 3H5c-1.1 0-2 .9-2 2v14c0 1.1.9 2 2 2h14c1.1 0 2-.9 2-2V5c0-1.1-.9-2-2-2zM9 17H7v-7h2v7zm4 0h-2V7h2v10zm4 0h-2v-4h2v4z\"/>\n",
              "    </g>\n",
              "</svg>\n",
              "      </button>\n",
              "    </div>\n",
              "\n",
              "<style>\n",
              "  .colab-df-quickchart {\n",
              "    background-color: #E8F0FE;\n",
              "    border: none;\n",
              "    border-radius: 50%;\n",
              "    cursor: pointer;\n",
              "    display: none;\n",
              "    fill: #1967D2;\n",
              "    height: 32px;\n",
              "    padding: 0 0 0 0;\n",
              "    width: 32px;\n",
              "  }\n",
              "\n",
              "  .colab-df-quickchart:hover {\n",
              "    background-color: #E2EBFA;\n",
              "    box-shadow: 0px 1px 2px rgba(60, 64, 67, 0.3), 0px 1px 3px 1px rgba(60, 64, 67, 0.15);\n",
              "    fill: #174EA6;\n",
              "  }\n",
              "\n",
              "  [theme=dark] .colab-df-quickchart {\n",
              "    background-color: #3B4455;\n",
              "    fill: #D2E3FC;\n",
              "  }\n",
              "\n",
              "  [theme=dark] .colab-df-quickchart:hover {\n",
              "    background-color: #434B5C;\n",
              "    box-shadow: 0px 1px 3px 1px rgba(0, 0, 0, 0.15);\n",
              "    filter: drop-shadow(0px 1px 2px rgba(0, 0, 0, 0.3));\n",
              "    fill: #FFFFFF;\n",
              "  }\n",
              "</style>\n",
              "\n",
              "    <script>\n",
              "      async function quickchart(key) {\n",
              "        const containerElement = document.querySelector('#' + key);\n",
              "        const charts = await google.colab.kernel.invokeFunction(\n",
              "            'suggestCharts', [key], {});\n",
              "      }\n",
              "    </script>\n",
              "\n",
              "      <script>\n",
              "\n",
              "function displayQuickchartButton(domScope) {\n",
              "  let quickchartButtonEl =\n",
              "    domScope.querySelector('#df-b3f148b7-b3fe-456a-b139-eb36c2fef3de button.colab-df-quickchart');\n",
              "  quickchartButtonEl.style.display =\n",
              "    google.colab.kernel.accessAllowed ? 'block' : 'none';\n",
              "}\n",
              "\n",
              "        displayQuickchartButton(document);\n",
              "      </script>\n",
              "      <style>\n",
              "    .colab-df-container {\n",
              "      display:flex;\n",
              "      flex-wrap:wrap;\n",
              "      gap: 12px;\n",
              "    }\n",
              "\n",
              "    .colab-df-convert {\n",
              "      background-color: #E8F0FE;\n",
              "      border: none;\n",
              "      border-radius: 50%;\n",
              "      cursor: pointer;\n",
              "      display: none;\n",
              "      fill: #1967D2;\n",
              "      height: 32px;\n",
              "      padding: 0 0 0 0;\n",
              "      width: 32px;\n",
              "    }\n",
              "\n",
              "    .colab-df-convert:hover {\n",
              "      background-color: #E2EBFA;\n",
              "      box-shadow: 0px 1px 2px rgba(60, 64, 67, 0.3), 0px 1px 3px 1px rgba(60, 64, 67, 0.15);\n",
              "      fill: #174EA6;\n",
              "    }\n",
              "\n",
              "    [theme=dark] .colab-df-convert {\n",
              "      background-color: #3B4455;\n",
              "      fill: #D2E3FC;\n",
              "    }\n",
              "\n",
              "    [theme=dark] .colab-df-convert:hover {\n",
              "      background-color: #434B5C;\n",
              "      box-shadow: 0px 1px 3px 1px rgba(0, 0, 0, 0.15);\n",
              "      filter: drop-shadow(0px 1px 2px rgba(0, 0, 0, 0.3));\n",
              "      fill: #FFFFFF;\n",
              "    }\n",
              "  </style>\n",
              "\n",
              "      <script>\n",
              "        const buttonEl =\n",
              "          document.querySelector('#df-3636f6c7-c4c4-4189-b73d-ceb8f0264a3a button.colab-df-convert');\n",
              "        buttonEl.style.display =\n",
              "          google.colab.kernel.accessAllowed ? 'block' : 'none';\n",
              "\n",
              "        async function convertToInteractive(key) {\n",
              "          const element = document.querySelector('#df-3636f6c7-c4c4-4189-b73d-ceb8f0264a3a');\n",
              "          const dataTable =\n",
              "            await google.colab.kernel.invokeFunction('convertToInteractive',\n",
              "                                                     [key], {});\n",
              "          if (!dataTable) return;\n",
              "\n",
              "          const docLinkHtml = 'Like what you see? Visit the ' +\n",
              "            '<a target=\"_blank\" href=https://colab.research.google.com/notebooks/data_table.ipynb>data table notebook</a>'\n",
              "            + ' to learn more about interactive tables.';\n",
              "          element.innerHTML = '';\n",
              "          dataTable['output_type'] = 'display_data';\n",
              "          await google.colab.output.renderOutput(dataTable, element);\n",
              "          const docLink = document.createElement('div');\n",
              "          docLink.innerHTML = docLinkHtml;\n",
              "          element.appendChild(docLink);\n",
              "        }\n",
              "      </script>\n",
              "    </div>\n",
              "  </div>\n"
            ]
          },
          "metadata": {},
          "execution_count": 11
        }
      ]
    },
    {
      "cell_type": "code",
      "source": [
        "# Tracer\n",
        "plt.figure(figsize=(12,6))\n",
        "plt.plot(df.Close)"
      ],
      "metadata": {
        "colab": {
          "base_uri": "https://localhost:8080/",
          "height": 539
        },
        "id": "0XziDdGi3KXf",
        "outputId": "3050a4eb-0d83-433b-f75b-0a2bffaef887"
      },
      "execution_count": 12,
      "outputs": [
        {
          "output_type": "execute_result",
          "data": {
            "text/plain": [
              "[<matplotlib.lines.Line2D at 0x7aa6475347c0>]"
            ]
          },
          "metadata": {},
          "execution_count": 12
        },
        {
          "output_type": "display_data",
          "data": {
            "text/plain": [
              "<Figure size 1200x600 with 1 Axes>"
            ],
            "image/png": "[encoded data removed]"
          },
          "metadata": {}
        }
      ]
    },
    {
      "cell_type": "code",
      "source": [
        "# Préparation des données de moyenne mobile X jours (Moving Average)\n",
        "ma100 = df.Close.rolling(100).mean()\n",
        "ma100"
      ],
      "metadata": {
        "colab": {
          "base_uri": "https://localhost:8080/"
        },
        "id": "J5zMo6gG3-_W",
        "outputId": "87c02816-7936-4a09-c074-775a14b84972"
      },
      "execution_count": 13,
      "outputs": [
        {
          "output_type": "execute_result",
          "data": {
            "text/plain": [
              "0             NaN\n",
              "1             NaN\n",
              "2             NaN\n",
              "3             NaN\n",
              "4             NaN\n",
              "          ...    \n",
              "2535    95.158185\n",
              "2536    95.248070\n",
              "2537    95.351735\n",
              "2538    95.451940\n",
              "2539    95.534177\n",
              "Name: Close, Length: 2540, dtype: float64"
            ]
          },
          "metadata": {},
          "execution_count": 13
        }
      ]
    },
    {
      "cell_type": "code",
      "source": [
        "ma200 = df.Close.rolling(200).mean()\n",
        "ma200"
      ],
      "metadata": {
        "colab": {
          "base_uri": "https://localhost:8080/"
        },
        "id": "MaheazvO4uMa",
        "outputId": "842eb6ea-da2b-4f24-b62b-580c6b09f9c4"
      },
      "execution_count": 14,
      "outputs": [
        {
          "output_type": "execute_result",
          "data": {
            "text/plain": [
              "0             NaN\n",
              "1             NaN\n",
              "2             NaN\n",
              "3             NaN\n",
              "4             NaN\n",
              "          ...    \n",
              "2535    89.966474\n",
              "2536    90.048098\n",
              "2537    90.137720\n",
              "2538    90.226769\n",
              "2539    90.311028\n",
              "Name: Close, Length: 2540, dtype: float64"
            ]
          },
          "metadata": {},
          "execution_count": 14
        }
      ]
    },
    {
      "cell_type": "code",
      "source": [
        " # Visualisation de le courbe de la moyenne mobile à 100 et 200 jours et du prix de clôture en fonction du temps\n",
        " plt.figure(figsize=(12,6))\n",
        " plt.plot(df.Close)\n",
        " plt.plot(ma100,'r')\n",
        " plt.plot(ma200,'g')"
      ],
      "metadata": {
        "colab": {
          "base_uri": "https://localhost:8080/",
          "height": 539
        },
        "id": "X4iEcXYf437-",
        "outputId": "7a0a05a0-8cf7-4530-93f3-046d15cdad15"
      },
      "execution_count": 15,
      "outputs": [
        {
          "output_type": "execute_result",
          "data": {
            "text/plain": [
              "[<matplotlib.lines.Line2D at 0x7aa649762c20>]"
            ]
          },
          "metadata": {},
          "execution_count": 15
        },
        {
          "output_type": "display_data",
          "data": {
            "text/plain": [
              "<Figure size 1200x600 with 1 Axes>"
            ],
            "image/png": "[encoded data removed]"
          },
          "metadata": {}
        }
      ]
    },
    {
      "cell_type": "markdown",
      "source": [
        "## Division des données"
      ],
      "metadata": {
        "id": "HbHn6iSnzlzk"
      }
    },
    {
      "cell_type": "code",
      "source": [
        "# Division des données en Training dataset et Testing dataset\n",
        "data_training = pd.DataFrame(df['Close'][0:int(len(df)*0.70)])\n",
        "data_testing = pd.DataFrame(df['Close'][int(len(df)*0.7):int(len(df))])\n",
        "\n",
        "print(data_training.shape)\n",
        "print(data_testing.shape)"
      ],
      "metadata": {
        "colab": {
          "base_uri": "https://localhost:8080/"
        },
        "id": "j5ojXzFxzct8",
        "outputId": "b26d0130-642f-4c18-ee16-31479fd84115"
      },
      "execution_count": 16,
      "outputs": [
        {
          "output_type": "stream",
          "name": "stdout",
          "text": [
            "(1778, 1)\n",
            "(762, 1)\n"
          ]
        }
      ]
    },
    {
      "cell_type": "code",
      "source": [
        "data_training.tail()"
      ],
      "metadata": {
        "colab": {
          "base_uri": "https://localhost:8080/",
          "height": 206
        },
        "id": "EsUYg8Gz3IYO",
        "outputId": "3d50897f-168d-4ae6-98c5-6ab5dd8dc062"
      },
      "execution_count": 17,
      "outputs": [
        {
          "output_type": "execute_result",
          "data": {
            "text/plain": [
              "          Close\n",
              "1773  77.824341\n",
              "1774  78.640984\n",
              "1775  79.152512\n",
              "1776  78.066635\n",
              "1777  76.693588"
            ],
            "text/html": [
              "\n",
              "\n",
              "  <div id=\"df-9dfc1ad1-a4d9-49c1-b36b-0fbd7cfef812\">\n",
              "    <div class=\"colab-df-container\">\n",
              "      <div>\n",
              "<style scoped>\n",
              "    .dataframe tbody tr th:only-of-type {\n",
              "        vertical-align: middle;\n",
              "    }\n",
              "\n",
              "    .dataframe tbody tr th {\n",
              "        vertical-align: top;\n",
              "    }\n",
              "\n",
              "    .dataframe thead th {\n",
              "        text-align: right;\n",
              "    }\n",
              "</style>\n",
              "<table border=\"1\" class=\"dataframe\">\n",
              "  <thead>\n",
              "    <tr style=\"text-align: right;\">\n",
              "      <th></th>\n",
              "      <th>Close</th>\n",
              "    </tr>\n",
              "  </thead>\n",
              "  <tbody>\n",
              "    <tr>\n",
              "      <th>1773</th>\n",
              "      <td>77.824341</td>\n",
              "    </tr>\n",
              "    <tr>\n",
              "      <th>1774</th>\n",
              "      <td>78.640984</td>\n",
              "    </tr>\n",
              "    <tr>\n",
              "      <th>1775</th>\n",
              "      <td>79.152512</td>\n",
              "    </tr>\n",
              "    <tr>\n",
              "      <th>1776</th>\n",
              "      <td>78.066635</td>\n",
              "    </tr>\n",
              "    <tr>\n",
              "      <th>1777</th>\n",
              "      <td>76.693588</td>\n",
              "    </tr>\n",
              "  </tbody>\n",
              "</table>\n",
              "</div>\n",
              "      <button class=\"colab-df-convert\" onclick=\"convertToInteractive('df-9dfc1ad1-a4d9-49c1-b36b-0fbd7cfef812')\"\n",
              "              title=\"Convert this dataframe to an interactive table.\"\n",
              "              style=\"display:none;\">\n",
              "\n",
              "  <svg xmlns=\"http://www.w3.org/2000/svg\" height=\"24px\"viewBox=\"0 0 24 24\"\n",
              "       width=\"24px\">\n",
              "    <path d=\"M0 0h24v24H0V0z\" fill=\"none\"/>\n",
              "    <path d=\"M18.56 5.44l.94 2.06.94-2.06 2.06-.94-2.06-.94-.94-2.06-.94 2.06-2.06.94zm-11 1L8.5 8.5l.94-2.06 2.06-.94-2.06-.94L8.5 2.5l-.94 2.06-2.06.94zm10 10l.94 2.06.94-2.06 2.06-.94-2.06-.94-.94-2.06-.94 2.06-2.06.94z\"/><path d=\"M17.41 7.96l-1.37-1.37c-.4-.4-.92-.59-1.43-.59-.52 0-1.04.2-1.43.59L10.3 9.45l-7.72 7.72c-.78.78-.78 2.05 0 2.83L4 21.41c.39.39.9.59 1.41.59.51 0 1.02-.2 1.41-.59l7.78-7.78 2.81-2.81c.8-.78.8-2.07 0-2.86zM5.41 20L4 18.59l7.72-7.72 1.47 1.35L5.41 20z\"/>\n",
              "  </svg>\n",
              "      </button>\n",
              "\n",
              "\n",
              "\n",
              "    <div id=\"df-4f5c5361-fb91-4bdc-b552-0fe3f0189d78\">\n",
              "      <button class=\"colab-df-quickchart\" onclick=\"quickchart('df-4f5c5361-fb91-4bdc-b552-0fe3f0189d78')\"\n",
              "              title=\"Suggest charts.\"\n",
              "              style=\"display:none;\">\n",
              "\n",
              "<svg xmlns=\"http://www.w3.org/2000/svg\" height=\"24px\"viewBox=\"0 0 24 24\"\n",
              "     width=\"24px\">\n",
              "    <g>\n",
              "        <path d=\"M19 3H5c-1.1 0-2 .9-2 2v14c0 1.1.9 2 2 2h14c1.1 0 2-.9 2-2V5c0-1.1-.9-2-2-2zM9 17H7v-7h2v7zm4 0h-2V7h2v10zm4 0h-2v-4h2v4z\"/>\n",
              "    </g>\n",
              "</svg>\n",
              "      </button>\n",
              "    </div>\n",
              "\n",
              "<style>\n",
              "  .colab-df-quickchart {\n",
              "    background-color: #E8F0FE;\n",
              "    border: none;\n",
              "    border-radius: 50%;\n",
              "    cursor: pointer;\n",
              "    display: none;\n",
              "    fill: #1967D2;\n",
              "    height: 32px;\n",
              "    padding: 0 0 0 0;\n",
              "    width: 32px;\n",
              "  }\n",
              "\n",
              "  .colab-df-quickchart:hover {\n",
              "    background-color: #E2EBFA;\n",
              "    box-shadow: 0px 1px 2px rgba(60, 64, 67, 0.3), 0px 1px 3px 1px rgba(60, 64, 67, 0.15);\n",
              "    fill: #174EA6;\n",
              "  }\n",
              "\n",
              "  [theme=dark] .colab-df-quickchart {\n",
              "    background-color: #3B4455;\n",
              "    fill: #D2E3FC;\n",
              "  }\n",
              "\n",
              "  [theme=dark] .colab-df-quickchart:hover {\n",
              "    background-color: #434B5C;\n",
              "    box-shadow: 0px 1px 3px 1px rgba(0, 0, 0, 0.15);\n",
              "    filter: drop-shadow(0px 1px 2px rgba(0, 0, 0, 0.3));\n",
              "    fill: #FFFFFF;\n",
              "  }\n",
              "</style>\n",
              "\n",
              "    <script>\n",
              "      async function quickchart(key) {\n",
              "        const containerElement = document.querySelector('#' + key);\n",
              "        const charts = await google.colab.kernel.invokeFunction(\n",
              "            'suggestCharts', [key], {});\n",
              "      }\n",
              "    </script>\n",
              "\n",
              "      <script>\n",
              "\n",
              "function displayQuickchartButton(domScope) {\n",
              "  let quickchartButtonEl =\n",
              "    domScope.querySelector('#df-4f5c5361-fb91-4bdc-b552-0fe3f0189d78 button.colab-df-quickchart');\n",
              "  quickchartButtonEl.style.display =\n",
              "    google.colab.kernel.accessAllowed ? 'block' : 'none';\n",
              "}\n",
              "\n",
              "        displayQuickchartButton(document);\n",
              "      </script>\n",
              "      <style>\n",
              "    .colab-df-container {\n",
              "      display:flex;\n",
              "      flex-wrap:wrap;\n",
              "      gap: 12px;\n",
              "    }\n",
              "\n",
              "    .colab-df-convert {\n",
              "      background-color: #E8F0FE;\n",
              "      border: none;\n",
              "      border-radius: 50%;\n",
              "      cursor: pointer;\n",
              "      display: none;\n",
              "      fill: #1967D2;\n",
              "      height: 32px;\n",
              "      padding: 0 0 0 0;\n",
              "      width: 32px;\n",
              "    }\n",
              "\n",
              "    .colab-df-convert:hover {\n",
              "      background-color: #E2EBFA;\n",
              "      box-shadow: 0px 1px 2px rgba(60, 64, 67, 0.3), 0px 1px 3px 1px rgba(60, 64, 67, 0.15);\n",
              "      fill: #174EA6;\n",
              "    }\n",
              "\n",
              "    [theme=dark] .colab-df-convert {\n",
              "      background-color: #3B4455;\n",
              "      fill: #D2E3FC;\n",
              "    }\n",
              "\n",
              "    [theme=dark] .colab-df-convert:hover {\n",
              "      background-color: #434B5C;\n",
              "      box-shadow: 0px 1px 3px 1px rgba(0, 0, 0, 0.15);\n",
              "      filter: drop-shadow(0px 1px 2px rgba(0, 0, 0, 0.3));\n",
              "      fill: #FFFFFF;\n",
              "    }\n",
              "  </style>\n",
              "\n",
              "      <script>\n",
              "        const buttonEl =\n",
              "          document.querySelector('#df-9dfc1ad1-a4d9-49c1-b36b-0fbd7cfef812 button.colab-df-convert');\n",
              "        buttonEl.style.display =\n",
              "          google.colab.kernel.accessAllowed ? 'block' : 'none';\n",
              "\n",
              "        async function convertToInteractive(key) {\n",
              "          const element = document.querySelector('#df-9dfc1ad1-a4d9-49c1-b36b-0fbd7cfef812');\n",
              "          const dataTable =\n",
              "            await google.colab.kernel.invokeFunction('convertToInteractive',\n",
              "                                                     [key], {});\n",
              "          if (!dataTable) return;\n",
              "\n",
              "          const docLinkHtml = 'Like what you see? Visit the ' +\n",
              "            '<a target=\"_blank\" href=https://colab.research.google.com/notebooks/data_table.ipynb>data table notebook</a>'\n",
              "            + ' to learn more about interactive tables.';\n",
              "          element.innerHTML = '';\n",
              "          dataTable['output_type'] = 'display_data';\n",
              "          await google.colab.output.renderOutput(dataTable, element);\n",
              "          const docLink = document.createElement('div');\n",
              "          docLink.innerHTML = docLinkHtml;\n",
              "          element.appendChild(docLink);\n",
              "        }\n",
              "      </script>\n",
              "    </div>\n",
              "  </div>\n"
            ]
          },
          "metadata": {},
          "execution_count": 17
        }
      ]
    },
    {
      "cell_type": "code",
      "source": [
        "data_testing.head()"
      ],
      "metadata": {
        "colab": {
          "base_uri": "https://localhost:8080/",
          "height": 206
        },
        "id": "ea0l5oPaRUYa",
        "outputId": "36771754-0ec8-4c70-aa58-65a2d542ce02"
      },
      "execution_count": 18,
      "outputs": [
        {
          "output_type": "execute_result",
          "data": {
            "text/plain": [
              "          Close\n",
              "1778  77.635880\n",
              "1779  78.416634\n",
              "1780  78.649963\n",
              "1781  78.048691\n",
              "1782  77.483315"
            ],
            "text/html": [
              "\n",
              "\n",
              "  <div id=\"df-43611d9e-f200-4605-a6dd-01e3aeb3a683\">\n",
              "    <div class=\"colab-df-container\">\n",
              "      <div>\n",
              "<style scoped>\n",
              "    .dataframe tbody tr th:only-of-type {\n",
              "        vertical-align: middle;\n",
              "    }\n",
              "\n",
              "    .dataframe tbody tr th {\n",
              "        vertical-align: top;\n",
              "    }\n",
              "\n",
              "    .dataframe thead th {\n",
              "        text-align: right;\n",
              "    }\n",
              "</style>\n",
              "<table border=\"1\" class=\"dataframe\">\n",
              "  <thead>\n",
              "    <tr style=\"text-align: right;\">\n",
              "      <th></th>\n",
              "      <th>Close</th>\n",
              "    </tr>\n",
              "  </thead>\n",
              "  <tbody>\n",
              "    <tr>\n",
              "      <th>1778</th>\n",
              "      <td>77.635880</td>\n",
              "    </tr>\n",
              "    <tr>\n",
              "      <th>1779</th>\n",
              "      <td>78.416634</td>\n",
              "    </tr>\n",
              "    <tr>\n",
              "      <th>1780</th>\n",
              "      <td>78.649963</td>\n",
              "    </tr>\n",
              "    <tr>\n",
              "      <th>1781</th>\n",
              "      <td>78.048691</td>\n",
              "    </tr>\n",
              "    <tr>\n",
              "      <th>1782</th>\n",
              "      <td>77.483315</td>\n",
              "    </tr>\n",
              "  </tbody>\n",
              "</table>\n",
              "</div>\n",
              "      <button class=\"colab-df-convert\" onclick=\"convertToInteractive('df-43611d9e-f200-4605-a6dd-01e3aeb3a683')\"\n",
              "              title=\"Convert this dataframe to an interactive table.\"\n",
              "              style=\"display:none;\">\n",
              "\n",
              "  <svg xmlns=\"http://www.w3.org/2000/svg\" height=\"24px\"viewBox=\"0 0 24 24\"\n",
              "       width=\"24px\">\n",
              "    <path d=\"M0 0h24v24H0V0z\" fill=\"none\"/>\n",
              "    <path d=\"M18.56 5.44l.94 2.06.94-2.06 2.06-.94-2.06-.94-.94-2.06-.94 2.06-2.06.94zm-11 1L8.5 8.5l.94-2.06 2.06-.94-2.06-.94L8.5 2.5l-.94 2.06-2.06.94zm10 10l.94 2.06.94-2.06 2.06-.94-2.06-.94-.94-2.06-.94 2.06-2.06.94z\"/><path d=\"M17.41 7.96l-1.37-1.37c-.4-.4-.92-.59-1.43-.59-.52 0-1.04.2-1.43.59L10.3 9.45l-7.72 7.72c-.78.78-.78 2.05 0 2.83L4 21.41c.39.39.9.59 1.41.59.51 0 1.02-.2 1.41-.59l7.78-7.78 2.81-2.81c.8-.78.8-2.07 0-2.86zM5.41 20L4 18.59l7.72-7.72 1.47 1.35L5.41 20z\"/>\n",
              "  </svg>\n",
              "      </button>\n",
              "\n",
              "\n",
              "\n",
              "    <div id=\"df-37bb3958-63b4-4e17-87ce-ddd526b4ebbc\">\n",
              "      <button class=\"colab-df-quickchart\" onclick=\"quickchart('df-37bb3958-63b4-4e17-87ce-ddd526b4ebbc')\"\n",
              "              title=\"Suggest charts.\"\n",
              "              style=\"display:none;\">\n",
              "\n",
              "<svg xmlns=\"http://www.w3.org/2000/svg\" height=\"24px\"viewBox=\"0 0 24 24\"\n",
              "     width=\"24px\">\n",
              "    <g>\n",
              "        <path d=\"M19 3H5c-1.1 0-2 .9-2 2v14c0 1.1.9 2 2 2h14c1.1 0 2-.9 2-2V5c0-1.1-.9-2-2-2zM9 17H7v-7h2v7zm4 0h-2V7h2v10zm4 0h-2v-4h2v4z\"/>\n",
              "    </g>\n",
              "</svg>\n",
              "      </button>\n",
              "    </div>\n",
              "\n",
              "<style>\n",
              "  .colab-df-quickchart {\n",
              "    background-color: #E8F0FE;\n",
              "    border: none;\n",
              "    border-radius: 50%;\n",
              "    cursor: pointer;\n",
              "    display: none;\n",
              "    fill: #1967D2;\n",
              "    height: 32px;\n",
              "    padding: 0 0 0 0;\n",
              "    width: 32px;\n",
              "  }\n",
              "\n",
              "  .colab-df-quickchart:hover {\n",
              "    background-color: #E2EBFA;\n",
              "    box-shadow: 0px 1px 2px rgba(60, 64, 67, 0.3), 0px 1px 3px 1px rgba(60, 64, 67, 0.15);\n",
              "    fill: #174EA6;\n",
              "  }\n",
              "\n",
              "  [theme=dark] .colab-df-quickchart {\n",
              "    background-color: #3B4455;\n",
              "    fill: #D2E3FC;\n",
              "  }\n",
              "\n",
              "  [theme=dark] .colab-df-quickchart:hover {\n",
              "    background-color: #434B5C;\n",
              "    box-shadow: 0px 1px 3px 1px rgba(0, 0, 0, 0.15);\n",
              "    filter: drop-shadow(0px 1px 2px rgba(0, 0, 0, 0.3));\n",
              "    fill: #FFFFFF;\n",
              "  }\n",
              "</style>\n",
              "\n",
              "    <script>\n",
              "      async function quickchart(key) {\n",
              "        const containerElement = document.querySelector('#' + key);\n",
              "        const charts = await google.colab.kernel.invokeFunction(\n",
              "            'suggestCharts', [key], {});\n",
              "      }\n",
              "    </script>\n",
              "\n",
              "      <script>\n",
              "\n",
              "function displayQuickchartButton(domScope) {\n",
              "  let quickchartButtonEl =\n",
              "    domScope.querySelector('#df-37bb3958-63b4-4e17-87ce-ddd526b4ebbc button.colab-df-quickchart');\n",
              "  quickchartButtonEl.style.display =\n",
              "    google.colab.kernel.accessAllowed ? 'block' : 'none';\n",
              "}\n",
              "\n",
              "        displayQuickchartButton(document);\n",
              "      </script>\n",
              "      <style>\n",
              "    .colab-df-container {\n",
              "      display:flex;\n",
              "      flex-wrap:wrap;\n",
              "      gap: 12px;\n",
              "    }\n",
              "\n",
              "    .colab-df-convert {\n",
              "      background-color: #E8F0FE;\n",
              "      border: none;\n",
              "      border-radius: 50%;\n",
              "      cursor: pointer;\n",
              "      display: none;\n",
              "      fill: #1967D2;\n",
              "      height: 32px;\n",
              "      padding: 0 0 0 0;\n",
              "      width: 32px;\n",
              "    }\n",
              "\n",
              "    .colab-df-convert:hover {\n",
              "      background-color: #E2EBFA;\n",
              "      box-shadow: 0px 1px 2px rgba(60, 64, 67, 0.3), 0px 1px 3px 1px rgba(60, 64, 67, 0.15);\n",
              "      fill: #174EA6;\n",
              "    }\n",
              "\n",
              "    [theme=dark] .colab-df-convert {\n",
              "      background-color: #3B4455;\n",
              "      fill: #D2E3FC;\n",
              "    }\n",
              "\n",
              "    [theme=dark] .colab-df-convert:hover {\n",
              "      background-color: #434B5C;\n",
              "      box-shadow: 0px 1px 3px 1px rgba(0, 0, 0, 0.15);\n",
              "      filter: drop-shadow(0px 1px 2px rgba(0, 0, 0, 0.3));\n",
              "      fill: #FFFFFF;\n",
              "    }\n",
              "  </style>\n",
              "\n",
              "      <script>\n",
              "        const buttonEl =\n",
              "          document.querySelector('#df-43611d9e-f200-4605-a6dd-01e3aeb3a683 button.colab-df-convert');\n",
              "        buttonEl.style.display =\n",
              "          google.colab.kernel.accessAllowed ? 'block' : 'none';\n",
              "\n",
              "        async function convertToInteractive(key) {\n",
              "          const element = document.querySelector('#df-43611d9e-f200-4605-a6dd-01e3aeb3a683');\n",
              "          const dataTable =\n",
              "            await google.colab.kernel.invokeFunction('convertToInteractive',\n",
              "                                                     [key], {});\n",
              "          if (!dataTable) return;\n",
              "\n",
              "          const docLinkHtml = 'Like what you see? Visit the ' +\n",
              "            '<a target=\"_blank\" href=https://colab.research.google.com/notebooks/data_table.ipynb>data table notebook</a>'\n",
              "            + ' to learn more about interactive tables.';\n",
              "          element.innerHTML = '';\n",
              "          dataTable['output_type'] = 'display_data';\n",
              "          await google.colab.output.renderOutput(dataTable, element);\n",
              "          const docLink = document.createElement('div');\n",
              "          docLink.innerHTML = docLinkHtml;\n",
              "          element.appendChild(docLink);\n",
              "        }\n",
              "      </script>\n",
              "    </div>\n",
              "  </div>\n"
            ]
          },
          "metadata": {},
          "execution_count": 18
        }
      ]
    },
    {
      "cell_type": "code",
      "source": [
        "data_testing.tail()"
      ],
      "metadata": {
        "colab": {
          "base_uri": "https://localhost:8080/",
          "height": 206
        },
        "id": "jWzG-aYTK2T_",
        "outputId": "d986466d-9c02-4f3c-b7e0-fa5f75a88f50"
      },
      "execution_count": 19,
      "outputs": [
        {
          "output_type": "execute_result",
          "data": {
            "text/plain": [
              "          Close\n",
              "2535  97.750000\n",
              "2536  94.959999\n",
              "2537  97.089996\n",
              "2538  96.580002\n",
              "2539  94.870003"
            ],
            "text/html": [
              "\n",
              "\n",
              "  <div id=\"df-4d9bed4b-94b1-41c3-8fb0-eed398a7388d\">\n",
              "    <div class=\"colab-df-container\">\n",
              "      <div>\n",
              "<style scoped>\n",
              "    .dataframe tbody tr th:only-of-type {\n",
              "        vertical-align: middle;\n",
              "    }\n",
              "\n",
              "    .dataframe tbody tr th {\n",
              "        vertical-align: top;\n",
              "    }\n",
              "\n",
              "    .dataframe thead th {\n",
              "        text-align: right;\n",
              "    }\n",
              "</style>\n",
              "<table border=\"1\" class=\"dataframe\">\n",
              "  <thead>\n",
              "    <tr style=\"text-align: right;\">\n",
              "      <th></th>\n",
              "      <th>Close</th>\n",
              "    </tr>\n",
              "  </thead>\n",
              "  <tbody>\n",
              "    <tr>\n",
              "      <th>2535</th>\n",
              "      <td>97.750000</td>\n",
              "    </tr>\n",
              "    <tr>\n",
              "      <th>2536</th>\n",
              "      <td>94.959999</td>\n",
              "    </tr>\n",
              "    <tr>\n",
              "      <th>2537</th>\n",
              "      <td>97.089996</td>\n",
              "    </tr>\n",
              "    <tr>\n",
              "      <th>2538</th>\n",
              "      <td>96.580002</td>\n",
              "    </tr>\n",
              "    <tr>\n",
              "      <th>2539</th>\n",
              "      <td>94.870003</td>\n",
              "    </tr>\n",
              "  </tbody>\n",
              "</table>\n",
              "</div>\n",
              "      <button class=\"colab-df-convert\" onclick=\"convertToInteractive('df-4d9bed4b-94b1-41c3-8fb0-eed398a7388d')\"\n",
              "              title=\"Convert this dataframe to an interactive table.\"\n",
              "              style=\"display:none;\">\n",
              "\n",
              "  <svg xmlns=\"http://www.w3.org/2000/svg\" height=\"24px\"viewBox=\"0 0 24 24\"\n",
              "       width=\"24px\">\n",
              "    <path d=\"M0 0h24v24H0V0z\" fill=\"none\"/>\n",
              "    <path d=\"M18.56 5.44l.94 2.06.94-2.06 2.06-.94-2.06-.94-.94-2.06-.94 2.06-2.06.94zm-11 1L8.5 8.5l.94-2.06 2.06-.94-2.06-.94L8.5 2.5l-.94 2.06-2.06.94zm10 10l.94 2.06.94-2.06 2.06-.94-2.06-.94-.94-2.06-.94 2.06-2.06.94z\"/><path d=\"M17.41 7.96l-1.37-1.37c-.4-.4-.92-.59-1.43-.59-.52 0-1.04.2-1.43.59L10.3 9.45l-7.72 7.72c-.78.78-.78 2.05 0 2.83L4 21.41c.39.39.9.59 1.41.59.51 0 1.02-.2 1.41-.59l7.78-7.78 2.81-2.81c.8-.78.8-2.07 0-2.86zM5.41 20L4 18.59l7.72-7.72 1.47 1.35L5.41 20z\"/>\n",
              "  </svg>\n",
              "      </button>\n",
              "\n",
              "\n",
              "\n",
              "    <div id=\"df-d4f7f27a-a33b-422c-ab9c-907494b31c07\">\n",
              "      <button class=\"colab-df-quickchart\" onclick=\"quickchart('df-d4f7f27a-a33b-422c-ab9c-907494b31c07')\"\n",
              "              title=\"Suggest charts.\"\n",
              "              style=\"display:none;\">\n",
              "\n",
              "<svg xmlns=\"http://www.w3.org/2000/svg\" height=\"24px\"viewBox=\"0 0 24 24\"\n",
              "     width=\"24px\">\n",
              "    <g>\n",
              "        <path d=\"M19 3H5c-1.1 0-2 .9-2 2v14c0 1.1.9 2 2 2h14c1.1 0 2-.9 2-2V5c0-1.1-.9-2-2-2zM9 17H7v-7h2v7zm4 0h-2V7h2v10zm4 0h-2v-4h2v4z\"/>\n",
              "    </g>\n",
              "</svg>\n",
              "      </button>\n",
              "    </div>\n",
              "\n",
              "<style>\n",
              "  .colab-df-quickchart {\n",
              "    background-color: #E8F0FE;\n",
              "    border: none;\n",
              "    border-radius: 50%;\n",
              "    cursor: pointer;\n",
              "    display: none;\n",
              "    fill: #1967D2;\n",
              "    height: 32px;\n",
              "    padding: 0 0 0 0;\n",
              "    width: 32px;\n",
              "  }\n",
              "\n",
              "  .colab-df-quickchart:hover {\n",
              "    background-color: #E2EBFA;\n",
              "    box-shadow: 0px 1px 2px rgba(60, 64, 67, 0.3), 0px 1px 3px 1px rgba(60, 64, 67, 0.15);\n",
              "    fill: #174EA6;\n",
              "  }\n",
              "\n",
              "  [theme=dark] .colab-df-quickchart {\n",
              "    background-color: #3B4455;\n",
              "    fill: #D2E3FC;\n",
              "  }\n",
              "\n",
              "  [theme=dark] .colab-df-quickchart:hover {\n",
              "    background-color: #434B5C;\n",
              "    box-shadow: 0px 1px 3px 1px rgba(0, 0, 0, 0.15);\n",
              "    filter: drop-shadow(0px 1px 2px rgba(0, 0, 0, 0.3));\n",
              "    fill: #FFFFFF;\n",
              "  }\n",
              "</style>\n",
              "\n",
              "    <script>\n",
              "      async function quickchart(key) {\n",
              "        const containerElement = document.querySelector('#' + key);\n",
              "        const charts = await google.colab.kernel.invokeFunction(\n",
              "            'suggestCharts', [key], {});\n",
              "      }\n",
              "    </script>\n",
              "\n",
              "      <script>\n",
              "\n",
              "function displayQuickchartButton(domScope) {\n",
              "  let quickchartButtonEl =\n",
              "    domScope.querySelector('#df-d4f7f27a-a33b-422c-ab9c-907494b31c07 button.colab-df-quickchart');\n",
              "  quickchartButtonEl.style.display =\n",
              "    google.colab.kernel.accessAllowed ? 'block' : 'none';\n",
              "}\n",
              "\n",
              "        displayQuickchartButton(document);\n",
              "      </script>\n",
              "      <style>\n",
              "    .colab-df-container {\n",
              "      display:flex;\n",
              "      flex-wrap:wrap;\n",
              "      gap: 12px;\n",
              "    }\n",
              "\n",
              "    .colab-df-convert {\n",
              "      background-color: #E8F0FE;\n",
              "      border: none;\n",
              "      border-radius: 50%;\n",
              "      cursor: pointer;\n",
              "      display: none;\n",
              "      fill: #1967D2;\n",
              "      height: 32px;\n",
              "      padding: 0 0 0 0;\n",
              "      width: 32px;\n",
              "    }\n",
              "\n",
              "    .colab-df-convert:hover {\n",
              "      background-color: #E2EBFA;\n",
              "      box-shadow: 0px 1px 2px rgba(60, 64, 67, 0.3), 0px 1px 3px 1px rgba(60, 64, 67, 0.15);\n",
              "      fill: #174EA6;\n",
              "    }\n",
              "\n",
              "    [theme=dark] .colab-df-convert {\n",
              "      background-color: #3B4455;\n",
              "      fill: #D2E3FC;\n",
              "    }\n",
              "\n",
              "    [theme=dark] .colab-df-convert:hover {\n",
              "      background-color: #434B5C;\n",
              "      box-shadow: 0px 1px 3px 1px rgba(0, 0, 0, 0.15);\n",
              "      filter: drop-shadow(0px 1px 2px rgba(0, 0, 0, 0.3));\n",
              "      fill: #FFFFFF;\n",
              "    }\n",
              "  </style>\n",
              "\n",
              "      <script>\n",
              "        const buttonEl =\n",
              "          document.querySelector('#df-4d9bed4b-94b1-41c3-8fb0-eed398a7388d button.colab-df-convert');\n",
              "        buttonEl.style.display =\n",
              "          google.colab.kernel.accessAllowed ? 'block' : 'none';\n",
              "\n",
              "        async function convertToInteractive(key) {\n",
              "          const element = document.querySelector('#df-4d9bed4b-94b1-41c3-8fb0-eed398a7388d');\n",
              "          const dataTable =\n",
              "            await google.colab.kernel.invokeFunction('convertToInteractive',\n",
              "                                                     [key], {});\n",
              "          if (!dataTable) return;\n",
              "\n",
              "          const docLinkHtml = 'Like what you see? Visit the ' +\n",
              "            '<a target=\"_blank\" href=https://colab.research.google.com/notebooks/data_table.ipynb>data table notebook</a>'\n",
              "            + ' to learn more about interactive tables.';\n",
              "          element.innerHTML = '';\n",
              "          dataTable['output_type'] = 'display_data';\n",
              "          await google.colab.output.renderOutput(dataTable, element);\n",
              "          const docLink = document.createElement('div');\n",
              "          docLink.innerHTML = docLinkHtml;\n",
              "          element.appendChild(docLink);\n",
              "        }\n",
              "      </script>\n",
              "    </div>\n",
              "  </div>\n"
            ]
          },
          "metadata": {},
          "execution_count": 19
        }
      ]
    },
    {
      "cell_type": "markdown",
      "source": [
        "## Scaling des données d'entraînement"
      ],
      "metadata": {
        "id": "f1pDViCq8F9n"
      }
    },
    {
      "cell_type": "code",
      "source": [
        "# Normalisation des valeurs <=> plage comprise entre 0 et 1\n",
        "from sklearn.preprocessing import MinMaxScaler\n",
        "scaler = MinMaxScaler(feature_range=(0,1))\n",
        "data_training_array = scaler.fit_transform(data_training)\n",
        "data_training_array.shape"
      ],
      "metadata": {
        "colab": {
          "base_uri": "https://localhost:8080/"
        },
        "id": "BihGlcKP7dag",
        "outputId": "2c1b8776-06c2-4d75-d6f7-a2029a4ae185"
      },
      "execution_count": 20,
      "outputs": [
        {
          "output_type": "execute_result",
          "data": {
            "text/plain": [
              "(1778, 1)"
            ]
          },
          "metadata": {},
          "execution_count": 20
        }
      ]
    },
    {
      "cell_type": "markdown",
      "source": [
        "\\begin{align}\n",
        "X_{\\text{scaled}} = \\frac{{X - X_{\\text{min}}}}{{X_{\\text{max}} - X_{\\text{min}}}}\n",
        "\\end{align}"
      ],
      "metadata": {
        "id": "S2bCPlLUxrYe"
      }
    },
    {
      "cell_type": "code",
      "source": [
        "data_training_array.min()"
      ],
      "metadata": {
        "colab": {
          "base_uri": "https://localhost:8080/"
        },
        "id": "p8tuOh5s9WUu",
        "outputId": "7efb68fb-a7b6-4505-cb8a-dbdcf591e6f9"
      },
      "execution_count": 21,
      "outputs": [
        {
          "output_type": "execute_result",
          "data": {
            "text/plain": [
              "0.0"
            ]
          },
          "metadata": {},
          "execution_count": 21
        }
      ]
    },
    {
      "cell_type": "code",
      "source": [
        "data_training_array.max()"
      ],
      "metadata": {
        "colab": {
          "base_uri": "https://localhost:8080/"
        },
        "id": "1VIFj1ud9fR1",
        "outputId": "782c3575-b831-45ca-e083-1a379ee8f286"
      },
      "execution_count": 22,
      "outputs": [
        {
          "output_type": "execute_result",
          "data": {
            "text/plain": [
              "1.0000000000000002"
            ]
          },
          "metadata": {},
          "execution_count": 22
        }
      ]
    },
    {
      "cell_type": "markdown",
      "source": [
        "![2023-08-04_16-37-59.jpg](data:image/jpeg;base64,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)"
      ],
      "metadata": {
        "id": "z-DUSNsf_Nlg"
      }
    },
    {
      "cell_type": "code",
      "source": [
        "# Division de x_train et y_train par pas de 100 jours\n",
        "x_train = []\n",
        "y_train = []\n",
        "\n",
        "for i in range(100, data_training_array.shape[0]):\n",
        "  x_train.append(data_training_array[i-100 : i ])\n",
        "  y_train.append(data_training_array[i, 0])"
      ],
      "metadata": {
        "id": "86cEYyci8igA"
      },
      "execution_count": 23,
      "outputs": []
    },
    {
      "cell_type": "code",
      "source": [
        "# Conversion de x_train et y_train en matrices\n",
        "x_train, y_train = np.array(x_train), np.array(y_train)\n",
        "\n",
        "print(x_train.shape)\n",
        "print(y_train.shape)"
      ],
      "metadata": {
        "colab": {
          "base_uri": "https://localhost:8080/"
        },
        "id": "miOi_w1O9Mee",
        "outputId": "1e91adc1-1313-4c63-a6da-1fe3ee7879f3"
      },
      "execution_count": 24,
      "outputs": [
        {
          "output_type": "stream",
          "name": "stdout",
          "text": [
            "(1678, 100, 1)\n",
            "(1678,)\n"
          ]
        }
      ]
    },
    {
      "cell_type": "markdown",
      "source": [
        "## Combiner les données de training et de test"
      ],
      "metadata": {
        "id": "y3leyS_6HlK5"
      }
    },
    {
      "cell_type": "code",
      "source": [
        "# Combiner les 100 dernières lignes du training dataset avant les premières lignes du Testing dataset\n",
        "past_100_days = data_training.tail(100)\n",
        "data_testing = past_100_days.append(data_testing, ignore_index=True)\n",
        "data_testing"
      ],
      "metadata": {
        "colab": {
          "base_uri": "https://localhost:8080/",
          "height": 458
        },
        "id": "jRacMyZrBDsD",
        "outputId": "d3e8e2cf-5d05-40ac-b018-118706902d9a"
      },
      "execution_count": 25,
      "outputs": [
        {
          "output_type": "stream",
          "name": "stderr",
          "text": [
            "<ipython-input-25-d7861b365625>:3: FutureWarning: The frame.append method is deprecated and will be removed from pandas in a future version. Use pandas.concat instead.\n",
            "  data_testing = past_100_days.append(data_testing, ignore_index=True)\n"
          ]
        },
        {
          "output_type": "execute_result",
          "data": {
            "text/plain": [
              "         Close\n",
              "0    66.487747\n",
              "1    67.266899\n",
              "2    66.660896\n",
              "3    69.699593\n",
              "4    69.379272\n",
              "..         ...\n",
              "857  97.750000\n",
              "858  94.959999\n",
              "859  97.089996\n",
              "860  96.580002\n",
              "861  94.870003\n",
              "\n",
              "[862 rows x 1 columns]"
            ],
            "text/html": [
              "\n",
              "\n",
              "  <div id=\"df-2007b49d-e4cd-4f59-b38d-836431e2209c\">\n",
              "    <div class=\"colab-df-container\">\n",
              "      <div>\n",
              "<style scoped>\n",
              "    .dataframe tbody tr th:only-of-type {\n",
              "        vertical-align: middle;\n",
              "    }\n",
              "\n",
              "    .dataframe tbody tr th {\n",
              "        vertical-align: top;\n",
              "    }\n",
              "\n",
              "    .dataframe thead th {\n",
              "        text-align: right;\n",
              "    }\n",
              "</style>\n",
              "<table border=\"1\" class=\"dataframe\">\n",
              "  <thead>\n",
              "    <tr style=\"text-align: right;\">\n",
              "      <th></th>\n",
              "      <th>Close</th>\n",
              "    </tr>\n",
              "  </thead>\n",
              "  <tbody>\n",
              "    <tr>\n",
              "      <th>0</th>\n",
              "      <td>66.487747</td>\n",
              "    </tr>\n",
              "    <tr>\n",
              "      <th>1</th>\n",
              "      <td>67.266899</td>\n",
              "    </tr>\n",
              "    <tr>\n",
              "      <th>2</th>\n",
              "      <td>66.660896</td>\n",
              "    </tr>\n",
              "    <tr>\n",
              "      <th>3</th>\n",
              "      <td>69.699593</td>\n",
              "    </tr>\n",
              "    <tr>\n",
              "      <th>4</th>\n",
              "      <td>69.379272</td>\n",
              "    </tr>\n",
              "    <tr>\n",
              "      <th>...</th>\n",
              "      <td>...</td>\n",
              "    </tr>\n",
              "    <tr>\n",
              "      <th>857</th>\n",
              "      <td>97.750000</td>\n",
              "    </tr>\n",
              "    <tr>\n",
              "      <th>858</th>\n",
              "      <td>94.959999</td>\n",
              "    </tr>\n",
              "    <tr>\n",
              "      <th>859</th>\n",
              "      <td>97.089996</td>\n",
              "    </tr>\n",
              "    <tr>\n",
              "      <th>860</th>\n",
              "      <td>96.580002</td>\n",
              "    </tr>\n",
              "    <tr>\n",
              "      <th>861</th>\n",
              "      <td>94.870003</td>\n",
              "    </tr>\n",
              "  </tbody>\n",
              "</table>\n",
              "<p>862 rows × 1 columns</p>\n",
              "</div>\n",
              "      <button class=\"colab-df-convert\" onclick=\"convertToInteractive('df-2007b49d-e4cd-4f59-b38d-836431e2209c')\"\n",
              "              title=\"Convert this dataframe to an interactive table.\"\n",
              "              style=\"display:none;\">\n",
              "\n",
              "  <svg xmlns=\"http://www.w3.org/2000/svg\" height=\"24px\"viewBox=\"0 0 24 24\"\n",
              "       width=\"24px\">\n",
              "    <path d=\"M0 0h24v24H0V0z\" fill=\"none\"/>\n",
              "    <path d=\"M18.56 5.44l.94 2.06.94-2.06 2.06-.94-2.06-.94-.94-2.06-.94 2.06-2.06.94zm-11 1L8.5 8.5l.94-2.06 2.06-.94-2.06-.94L8.5 2.5l-.94 2.06-2.06.94zm10 10l.94 2.06.94-2.06 2.06-.94-2.06-.94-.94-2.06-.94 2.06-2.06.94z\"/><path d=\"M17.41 7.96l-1.37-1.37c-.4-.4-.92-.59-1.43-.59-.52 0-1.04.2-1.43.59L10.3 9.45l-7.72 7.72c-.78.78-.78 2.05 0 2.83L4 21.41c.39.39.9.59 1.41.59.51 0 1.02-.2 1.41-.59l7.78-7.78 2.81-2.81c.8-.78.8-2.07 0-2.86zM5.41 20L4 18.59l7.72-7.72 1.47 1.35L5.41 20z\"/>\n",
              "  </svg>\n",
              "      </button>\n",
              "\n",
              "\n",
              "\n",
              "    <div id=\"df-d96f42a2-c1b0-48a5-b5cd-7269e1834411\">\n",
              "      <button class=\"colab-df-quickchart\" onclick=\"quickchart('df-d96f42a2-c1b0-48a5-b5cd-7269e1834411')\"\n",
              "              title=\"Suggest charts.\"\n",
              "              style=\"display:none;\">\n",
              "\n",
              "<svg xmlns=\"http://www.w3.org/2000/svg\" height=\"24px\"viewBox=\"0 0 24 24\"\n",
              "     width=\"24px\">\n",
              "    <g>\n",
              "        <path d=\"M19 3H5c-1.1 0-2 .9-2 2v14c0 1.1.9 2 2 2h14c1.1 0 2-.9 2-2V5c0-1.1-.9-2-2-2zM9 17H7v-7h2v7zm4 0h-2V7h2v10zm4 0h-2v-4h2v4z\"/>\n",
              "    </g>\n",
              "</svg>\n",
              "      </button>\n",
              "    </div>\n",
              "\n",
              "<style>\n",
              "  .colab-df-quickchart {\n",
              "    background-color: #E8F0FE;\n",
              "    border: none;\n",
              "    border-radius: 50%;\n",
              "    cursor: pointer;\n",
              "    display: none;\n",
              "    fill: #1967D2;\n",
              "    height: 32px;\n",
              "    padding: 0 0 0 0;\n",
              "    width: 32px;\n",
              "  }\n",
              "\n",
              "  .colab-df-quickchart:hover {\n",
              "    background-color: #E2EBFA;\n",
              "    box-shadow: 0px 1px 2px rgba(60, 64, 67, 0.3), 0px 1px 3px 1px rgba(60, 64, 67, 0.15);\n",
              "    fill: #174EA6;\n",
              "  }\n",
              "\n",
              "  [theme=dark] .colab-df-quickchart {\n",
              "    background-color: #3B4455;\n",
              "    fill: #D2E3FC;\n",
              "  }\n",
              "\n",
              "  [theme=dark] .colab-df-quickchart:hover {\n",
              "    background-color: #434B5C;\n",
              "    box-shadow: 0px 1px 3px 1px rgba(0, 0, 0, 0.15);\n",
              "    filter: drop-shadow(0px 1px 2px rgba(0, 0, 0, 0.3));\n",
              "    fill: #FFFFFF;\n",
              "  }\n",
              "</style>\n",
              "\n",
              "    <script>\n",
              "      async function quickchart(key) {\n",
              "        const containerElement = document.querySelector('#' + key);\n",
              "        const charts = await google.colab.kernel.invokeFunction(\n",
              "            'suggestCharts', [key], {});\n",
              "      }\n",
              "    </script>\n",
              "\n",
              "      <script>\n",
              "\n",
              "function displayQuickchartButton(domScope) {\n",
              "  let quickchartButtonEl =\n",
              "    domScope.querySelector('#df-d96f42a2-c1b0-48a5-b5cd-7269e1834411 button.colab-df-quickchart');\n",
              "  quickchartButtonEl.style.display =\n",
              "    google.colab.kernel.accessAllowed ? 'block' : 'none';\n",
              "}\n",
              "\n",
              "        displayQuickchartButton(document);\n",
              "      </script>\n",
              "      <style>\n",
              "    .colab-df-container {\n",
              "      display:flex;\n",
              "      flex-wrap:wrap;\n",
              "      gap: 12px;\n",
              "    }\n",
              "\n",
              "    .colab-df-convert {\n",
              "      background-color: #E8F0FE;\n",
              "      border: none;\n",
              "      border-radius: 50%;\n",
              "      cursor: pointer;\n",
              "      display: none;\n",
              "      fill: #1967D2;\n",
              "      height: 32px;\n",
              "      padding: 0 0 0 0;\n",
              "      width: 32px;\n",
              "    }\n",
              "\n",
              "    .colab-df-convert:hover {\n",
              "      background-color: #E2EBFA;\n",
              "      box-shadow: 0px 1px 2px rgba(60, 64, 67, 0.3), 0px 1px 3px 1px rgba(60, 64, 67, 0.15);\n",
              "      fill: #174EA6;\n",
              "    }\n",
              "\n",
              "    [theme=dark] .colab-df-convert {\n",
              "      background-color: #3B4455;\n",
              "      fill: #D2E3FC;\n",
              "    }\n",
              "\n",
              "    [theme=dark] .colab-df-convert:hover {\n",
              "      background-color: #434B5C;\n",
              "      box-shadow: 0px 1px 3px 1px rgba(0, 0, 0, 0.15);\n",
              "      filter: drop-shadow(0px 1px 2px rgba(0, 0, 0, 0.3));\n",
              "      fill: #FFFFFF;\n",
              "    }\n",
              "  </style>\n",
              "\n",
              "      <script>\n",
              "        const buttonEl =\n",
              "          document.querySelector('#df-2007b49d-e4cd-4f59-b38d-836431e2209c button.colab-df-convert');\n",
              "        buttonEl.style.display =\n",
              "          google.colab.kernel.accessAllowed ? 'block' : 'none';\n",
              "\n",
              "        async function convertToInteractive(key) {\n",
              "          const element = document.querySelector('#df-2007b49d-e4cd-4f59-b38d-836431e2209c');\n",
              "          const dataTable =\n",
              "            await google.colab.kernel.invokeFunction('convertToInteractive',\n",
              "                                                     [key], {});\n",
              "          if (!dataTable) return;\n",
              "\n",
              "          const docLinkHtml = 'Like what you see? Visit the ' +\n",
              "            '<a target=\"_blank\" href=https://colab.research.google.com/notebooks/data_table.ipynb>data table notebook</a>'\n",
              "            + ' to learn more about interactive tables.';\n",
              "          element.innerHTML = '';\n",
              "          dataTable['output_type'] = 'display_data';\n",
              "          await google.colab.output.renderOutput(dataTable, element);\n",
              "          const docLink = document.createElement('div');\n",
              "          docLink.innerHTML = docLinkHtml;\n",
              "          element.appendChild(docLink);\n",
              "        }\n",
              "      </script>\n",
              "    </div>\n",
              "  </div>\n"
            ]
          },
          "metadata": {},
          "execution_count": 25
        }
      ]
    },
    {
      "cell_type": "markdown",
      "source": [
        "## Scaling des données de test"
      ],
      "metadata": {
        "id": "G1Webq-5AAK6"
      }
    },
    {
      "cell_type": "code",
      "source": [
        "# Normalisation des valeurs <=> plage comprise entre 0 et 1\n",
        "scaler2 = MinMaxScaler(feature_range=(0,1))\n",
        "data_testing_array = scaler2.fit_transform(data_testing)\n",
        "data_testing_array.shape"
      ],
      "metadata": {
        "colab": {
          "base_uri": "https://localhost:8080/"
        },
        "id": "D2dBhY9q_4KU",
        "outputId": "5d847a87-bac1-49ac-ead1-414d53a2f9a3"
      },
      "execution_count": 26,
      "outputs": [
        {
          "output_type": "execute_result",
          "data": {
            "text/plain": [
              "(862, 1)"
            ]
          },
          "metadata": {},
          "execution_count": 26
        }
      ]
    },
    {
      "cell_type": "code",
      "source": [
        "# Division de x_test et y_test par pas de 100 jours\n",
        "x_test = []\n",
        "y_test = []\n",
        "\n",
        "for i in range(100, data_testing_array.shape[0]):\n",
        "  x_test.append(data_testing_array[i-100 : i ])\n",
        "  y_test.append(data_testing_array[i, 0])"
      ],
      "metadata": {
        "id": "k-L7hEuvAL4Q"
      },
      "execution_count": 27,
      "outputs": []
    },
    {
      "cell_type": "code",
      "source": [
        "# Conversion de x_test et y_test en matrices\n",
        "x_test, y_test = np.array(x_test), np.array(y_test)\n",
        "\n",
        "print(x_test.shape)\n",
        "print(y_test.shape)"
      ],
      "metadata": {
        "colab": {
          "base_uri": "https://localhost:8080/"
        },
        "id": "E39Ax7_mAMUI",
        "outputId": "54901cee-2887-4a71-e526-4f2da805965a"
      },
      "execution_count": 28,
      "outputs": [
        {
          "output_type": "stream",
          "name": "stdout",
          "text": [
            "(762, 100, 1)\n",
            "(762,)\n"
          ]
        }
      ]
    },
    {
      "cell_type": "markdown",
      "source": [
        "## Création du modèle Deep Learning LSTM"
      ],
      "metadata": {
        "id": "JLN8lc8MI7yr"
      }
    },
    {
      "cell_type": "code",
      "source": [
        "x_train.shape"
      ],
      "metadata": {
        "colab": {
          "base_uri": "https://localhost:8080/"
        },
        "id": "lNZ2lDkHB-CJ",
        "outputId": "228a43b5-f197-4780-f8ea-5604836e8eb1"
      },
      "execution_count": 29,
      "outputs": [
        {
          "output_type": "execute_result",
          "data": {
            "text/plain": [
              "(1678, 100, 1)"
            ]
          },
          "metadata": {},
          "execution_count": 29
        }
      ]
    },
    {
      "cell_type": "code",
      "source": [
        "x_train.shape[1]"
      ],
      "metadata": {
        "colab": {
          "base_uri": "https://localhost:8080/"
        },
        "id": "zyPrgXHjI0Vk",
        "outputId": "023d395d-7172-442f-c1ab-f1f25bea8eed"
      },
      "execution_count": 30,
      "outputs": [
        {
          "output_type": "execute_result",
          "data": {
            "text/plain": [
              "100"
            ]
          },
          "metadata": {},
          "execution_count": 30
        }
      ]
    },
    {
      "cell_type": "code",
      "source": [
        "# Création du modèle - ajout de plusieurs couches de neurones\n",
        "model = Sequential()\n",
        "model.add(LSTM(units = 50, activation = 'relu', return_sequences = True, input_shape = (x_train.shape[1], 1)))\n",
        "model.add(Dropout(0.2))\n",
        "\n",
        "model.add(LSTM(units = 60, activation = 'relu', return_sequences = True))\n",
        "model.add(Dropout(0.3))\n",
        "\n",
        "model.add(LSTM(units = 80, activation = 'relu', return_sequences = True))\n",
        "model.add(Dropout(0.4))\n",
        "\n",
        "model.add(LSTM(units = 120, activation = 'relu'))\n",
        "model.add(Dropout(0.5))\n",
        "\n",
        "model.add(Dense(units = 1))\n",
        "\n",
        "model.summary()"
      ],
      "metadata": {
        "colab": {
          "base_uri": "https://localhost:8080/"
        },
        "id": "T02nMUnIL79O",
        "outputId": "3c26b384-26aa-4f37-91c3-23281bbc5d73"
      },
      "execution_count": 31,
      "outputs": [
        {
          "output_type": "stream",
          "name": "stderr",
          "text": [
            "WARNING:tensorflow:Layer lstm will not use cuDNN kernels since it doesn't meet the criteria. It will use a generic GPU kernel as fallback when running on GPU.\n",
            "WARNING:tensorflow:Layer lstm_1 will not use cuDNN kernels since it doesn't meet the criteria. It will use a generic GPU kernel as fallback when running on GPU.\n",
            "WARNING:tensorflow:Layer lstm_2 will not use cuDNN kernels since it doesn't meet the criteria. It will use a generic GPU kernel as fallback when running on GPU.\n",
            "WARNING:tensorflow:Layer lstm_3 will not use cuDNN kernels since it doesn't meet the criteria. It will use a generic GPU kernel as fallback when running on GPU.\n"
          ]
        },
        {
          "output_type": "stream",
          "name": "stdout",
          "text": [
            "Model: \"sequential\"\n",
            "_________________________________________________________________\n",
            " Layer (type)                Output Shape              Param #   \n",
            "=================================================================\n",
            " lstm (LSTM)                 (None, 100, 50)           10400     \n",
            "                                                                 \n",
            " dropout (Dropout)           (None, 100, 50)           0         \n",
            "                                                                 \n",
            " lstm_1 (LSTM)               (None, 100, 60)           26640     \n",
            "                                                                 \n",
            " dropout_1 (Dropout)         (None, 100, 60)           0         \n",
            "                                                                 \n",
            " lstm_2 (LSTM)               (None, 100, 80)           45120     \n",
            "                                                                 \n",
            " dropout_2 (Dropout)         (None, 100, 80)           0         \n",
            "                                                                 \n",
            " lstm_3 (LSTM)               (None, 120)               96480     \n",
            "                                                                 \n",
            " dropout_3 (Dropout)         (None, 120)               0         \n",
            "                                                                 \n",
            " dense (Dense)               (None, 1)                 121       \n",
            "                                                                 \n",
            "=================================================================\n",
            "Total params: 178,761\n",
            "Trainable params: 178,761\n",
            "Non-trainable params: 0\n",
            "_________________________________________________________________\n"
          ]
        }
      ]
    },
    {
      "cell_type": "code",
      "source": [
        "# Compilation et training du modèle\n",
        "model.compile(optimizer='adam', loss = 'mean_squared_error')\n",
        "model.fit(x_train, y_train, epochs = 50)"
      ],
      "metadata": {
        "colab": {
          "base_uri": "https://localhost:8080/"
        },
        "id": "dpb7QLY_td9h",
        "outputId": "5499fe89-a1f7-4af4-da75-1862ef4fa1db"
      },
      "execution_count": null,
      "outputs": [
        {
          "output_type": "stream",
          "name": "stdout",
          "text": [
            "Epoch 1/50\n",
            "53/53 [==============================] - 57s 734ms/step - loss: 0.0409\n",
            "Epoch 2/50\n",
            "53/53 [==============================] - 41s 786ms/step - loss: 0.0135\n",
            "Epoch 3/50\n",
            "53/53 [==============================] - 49s 935ms/step - loss: 0.0098\n",
            "Epoch 4/50\n",
            "53/53 [==============================] - 39s 719ms/step - loss: 0.0090\n",
            "Epoch 5/50\n",
            "53/53 [==============================] - 38s 715ms/step - loss: 0.0091\n",
            "Epoch 6/50\n",
            "53/53 [==============================] - 41s 763ms/step - loss: 0.0085\n",
            "Epoch 7/50\n",
            "53/53 [==============================] - 39s 724ms/step - loss: 0.0078\n",
            "Epoch 8/50\n",
            "53/53 [==============================] - 38s 724ms/step - loss: 0.0071\n",
            "Epoch 9/50\n",
            "53/53 [==============================] - 38s 719ms/step - loss: 0.0077\n",
            "Epoch 10/50\n",
            "53/53 [==============================] - 40s 756ms/step - loss: 0.0069\n",
            "Epoch 11/50\n",
            "53/53 [==============================] - 46s 869ms/step - loss: 0.0067\n",
            "Epoch 12/50\n",
            "53/53 [==============================] - 44s 829ms/step - loss: 0.0066\n",
            "Epoch 13/50\n",
            "53/53 [==============================] - 45s 862ms/step - loss: 0.0061\n",
            "Epoch 14/50\n",
            "53/53 [==============================] - 38s 725ms/step - loss: 0.0064\n",
            "Epoch 15/50\n",
            "53/53 [==============================] - 48s 909ms/step - loss: 0.0061\n",
            "Epoch 16/50\n",
            "53/53 [==============================] - 39s 735ms/step - loss: 0.0064\n",
            "Epoch 17/50\n",
            "53/53 [==============================] - 40s 752ms/step - loss: 0.0060\n",
            "Epoch 18/50\n",
            "53/53 [==============================] - 48s 896ms/step - loss: 0.0056\n",
            "Epoch 19/50\n",
            "53/53 [==============================] - 39s 731ms/step - loss: 0.0052\n",
            "Epoch 20/50\n",
            "53/53 [==============================] - 39s 734ms/step - loss: 0.0052\n",
            "Epoch 21/50\n",
            "53/53 [==============================] - 45s 853ms/step - loss: 0.0055\n",
            "Epoch 22/50\n",
            "53/53 [==============================] - 42s 790ms/step - loss: 0.0052\n",
            "Epoch 23/50\n",
            "53/53 [==============================] - 38s 726ms/step - loss: 0.0048\n",
            "Epoch 24/50\n",
            "53/53 [==============================] - 38s 717ms/step - loss: 0.0050\n",
            "Epoch 25/50\n",
            "53/53 [==============================] - 38s 721ms/step - loss: 0.0050\n",
            "Epoch 26/50\n",
            "53/53 [==============================] - 42s 787ms/step - loss: 0.0046\n",
            "Epoch 27/50\n",
            "53/53 [==============================] - 41s 782ms/step - loss: 0.0045\n",
            "Epoch 28/50\n",
            "53/53 [==============================] - 50s 943ms/step - loss: 0.0044\n",
            "Epoch 29/50\n",
            "53/53 [==============================] - 41s 769ms/step - loss: 0.0041\n",
            "Epoch 30/50\n",
            "53/53 [==============================] - 51s 964ms/step - loss: 0.0043\n",
            "Epoch 31/50\n",
            "53/53 [==============================] - 44s 808ms/step - loss: 0.0044\n",
            "Epoch 32/50\n",
            "53/53 [==============================] - 42s 792ms/step - loss: 0.0042\n",
            "Epoch 33/50\n",
            "53/53 [==============================] - 48s 912ms/step - loss: 0.0041\n",
            "Epoch 34/50\n",
            "53/53 [==============================] - 39s 743ms/step - loss: 0.0041\n",
            "Epoch 35/50\n",
            "53/53 [==============================] - 38s 715ms/step - loss: 0.0038\n",
            "Epoch 36/50\n",
            "53/53 [==============================] - 38s 719ms/step - loss: 0.0040\n",
            "Epoch 37/50\n",
            "53/53 [==============================] - 39s 731ms/step - loss: 0.0038\n",
            "Epoch 38/50\n",
            "53/53 [==============================] - 42s 789ms/step - loss: 0.0041\n",
            "Epoch 39/50\n",
            "53/53 [==============================] - 40s 735ms/step - loss: 0.0035\n",
            "Epoch 40/50\n",
            "53/53 [==============================] - 39s 739ms/step - loss: 0.0038\n",
            "Epoch 41/50\n",
            "53/53 [==============================] - 40s 747ms/step - loss: 0.0036\n",
            "Epoch 42/50\n",
            "40/53 [=====================>........] - ETA: 10s - loss: 0.0035"
          ]
        }
      ]
    },
    {
      "cell_type": "code",
      "source": [
        "# Enregistrement du modèle\n",
        "model.save('keras_model.h5')"
      ],
      "metadata": {
        "id": "g25hq-uzNitr"
      },
      "execution_count": 77,
      "outputs": []
    },
    {
      "cell_type": "markdown",
      "source": [
        "## Evaluation du modèle"
      ],
      "metadata": {
        "id": "I-U_cc0HN9Ze"
      }
    },
    {
      "cell_type": "code",
      "source": [
        " print(x_test.shape)\n",
        " print(y_test.shape)"
      ],
      "metadata": {
        "colab": {
          "base_uri": "https://localhost:8080/"
        },
        "id": "JMtX7ScwN2jy",
        "outputId": "caf25c73-ceb8-4f89-b550-80a794618ce2"
      },
      "execution_count": 42,
      "outputs": [
        {
          "output_type": "stream",
          "name": "stdout",
          "text": [
            "(762, 100, 1)\n",
            "(762,)\n"
          ]
        }
      ]
    },
    {
      "cell_type": "code",
      "source": [
        "# Prédictions pour x_test\n",
        "y_pred = model.predict(x_test)\n",
        "y_pred.shape"
      ],
      "metadata": {
        "colab": {
          "base_uri": "https://localhost:8080/"
        },
        "id": "gx_wSxG8OFzB",
        "outputId": "ece3b93a-c015-47e8-c800-accf88ce5d93"
      },
      "execution_count": 41,
      "outputs": [
        {
          "output_type": "stream",
          "name": "stdout",
          "text": [
            "24/24 [==============================] - 1s 61ms/step\n"
          ]
        },
        {
          "output_type": "execute_result",
          "data": {
            "text/plain": [
              "(762, 1)"
            ]
          },
          "metadata": {},
          "execution_count": 41
        }
      ]
    },
    {
      "cell_type": "code",
      "source": [
        "# Récupérer le facteur de scaling\n",
        "scaler2.scale_"
      ],
      "metadata": {
        "colab": {
          "base_uri": "https://localhost:8080/"
        },
        "id": "2TuJV5lDOTjQ",
        "outputId": "7f3349dd-bbfa-4112-c39a-0a23f4e7e566"
      },
      "execution_count": 40,
      "outputs": [
        {
          "output_type": "execute_result",
          "data": {
            "text/plain": [
              "array([0.02909661])"
            ]
          },
          "metadata": {},
          "execution_count": 40
        }
      ]
    },
    {
      "cell_type": "code",
      "source": [
        "# Dénormaliser les données !\n",
        "scale_factor = 1 / scaler2.scale_\n",
        "print(\"scaling factor : \", scale_factor)\n",
        "#y_predict = y_pred * scale_factor\n",
        "#y_testing = y_test * scale_factor\n",
        "y_test_2d = np.reshape(y_test, (-1, 1))\n",
        "\n",
        "y_predict = scaler2.inverse_transform(y_pred)\n",
        "y_testing = scaler2.inverse_transform(y_test_2d)"
      ],
      "metadata": {
        "colab": {
          "base_uri": "https://localhost:8080/"
        },
        "id": "8lxIr07LOcBB",
        "outputId": "5c9a8db1-bdce-4c68-a199-98d750b53ac1"
      },
      "execution_count": 68,
      "outputs": [
        {
          "output_type": "stream",
          "name": "stdout",
          "text": [
            "scaling factor :  [34.36826324]\n"
          ]
        }
      ]
    },
    {
      "cell_type": "markdown",
      "source": [
        "\\begin{align}\n",
        "X = X_{\\text{scaled}} \\times (X_{\\text{max}} - X_{\\text{min}}) + X_{\\text{min}}\n",
        "\\end{align}"
      ],
      "metadata": {
        "id": "U_B0PBOM2arn"
      }
    },
    {
      "cell_type": "code",
      "source": [
        "y_predict[-1], y_testing[-1]"
      ],
      "metadata": {
        "colab": {
          "base_uri": "https://localhost:8080/"
        },
        "id": "-6kSNOABO88u",
        "outputId": "d69e3b49-cb03-4c9b-c96f-17863c012bb3"
      },
      "execution_count": 69,
      "outputs": [
        {
          "output_type": "execute_result",
          "data": {
            "text/plain": [
              "(array([93.40034], dtype=float32), array([94.87000275]))"
            ]
          },
          "metadata": {},
          "execution_count": 69
        }
      ]
    },
    {
      "cell_type": "code",
      "source": [
        "# Visionner la courbe de prédiction des cours de clôture VS le cours de clôture\n",
        "plt.figure(figsize=(12,6))\n",
        "plt.plot(y_testing,'b',label='Réel')\n",
        "plt.plot(y_predict,'r',label='Forecast')\n",
        "plt.xlabel('Temps')\n",
        "plt.ylabel('Cours de clôture')\n",
        "plt.legend()\n",
        "plt.show()"
      ],
      "metadata": {
        "colab": {
          "base_uri": "https://localhost:8080/",
          "height": 542
        },
        "id": "EbB35QlSP18g",
        "outputId": "ecb8c73f-de15-492c-f8c3-c7c3ad0ca3b1"
      },
      "execution_count": 70,
      "outputs": [
        {
          "output_type": "display_data",
          "data": {
            "text/plain": [
              "<Figure size 1200x600 with 1 Axes>"
            ],
            "image/png": "[encoded data removed]"
          },
          "metadata": {}
        }
      ]
    },
    {
      "cell_type": "code",
      "source": [
        "# Prédiction du cours de clôture pour demain\n",
        "x = []\n",
        "x.append(y_test[-100:])\n",
        "x = np.array(x)\n",
        "x.shape"
      ],
      "metadata": {
        "colab": {
          "base_uri": "https://localhost:8080/"
        },
        "id": "J5WvXNLOScDB",
        "outputId": "e8e61f90-71ba-4a7b-f6f4-30ba8a329666"
      },
      "execution_count": 71,
      "outputs": [
        {
          "output_type": "execute_result",
          "data": {
            "text/plain": [
              "(1, 100)"
            ]
          },
          "metadata": {},
          "execution_count": 71
        }
      ]
    },
    {
      "cell_type": "code",
      "source": [
        "# Attention la couche LSTM attend des données d'entrée tridimensionnelles de la forme (batch_size, timesteps, input_dim)\n",
        "x = x.reshape((x.shape[0], x.shape[1], 1))\n",
        "x.shape"
      ],
      "metadata": {
        "colab": {
          "base_uri": "https://localhost:8080/"
        },
        "id": "y5gStrNS4kVE",
        "outputId": "69355c67-73e6-4ef5-ce71-14d7b406df3e"
      },
      "execution_count": 72,
      "outputs": [
        {
          "output_type": "execute_result",
          "data": {
            "text/plain": [
              "(1, 100, 1)"
            ]
          },
          "metadata": {},
          "execution_count": 72
        }
      ]
    },
    {
      "cell_type": "code",
      "source": [
        "pred_tomorrow = model.predict(x)\n",
        "pred_tomorrow.shape"
      ],
      "metadata": {
        "colab": {
          "base_uri": "https://localhost:8080/"
        },
        "id": "5V4pZnbcTGAU",
        "outputId": "8838255a-0ce7-45aa-fac5-5e2f06a0ae7e"
      },
      "execution_count": 73,
      "outputs": [
        {
          "output_type": "stream",
          "name": "stdout",
          "text": [
            "1/1 [==============================] - 0s 78ms/step\n"
          ]
        },
        {
          "output_type": "execute_result",
          "data": {
            "text/plain": [
              "(1, 1)"
            ]
          },
          "metadata": {},
          "execution_count": 73
        }
      ]
    },
    {
      "cell_type": "code",
      "source": [
        "# Affichage\n",
        "#pred = pred_tomorrow * scale_factor\n",
        "pred = scaler2.inverse_transform(pred_tomorrow)\n",
        "print(\"Le prix de clôture pour aujourd'hui est :\", y_testing[-1],\"\\nLe prix de clôture prédit pour demain est : \", float(pred))"
      ],
      "metadata": {
        "colab": {
          "base_uri": "https://localhost:8080/"
        },
        "id": "tDHJWwi1TNcJ",
        "outputId": "03fc701a-7b1e-47c8-f65c-21b7a9598ac9"
      },
      "execution_count": 75,
      "outputs": [
        {
          "output_type": "stream",
          "name": "stdout",
          "text": [
            "Le prix de clôture pour aujourd'hui est : [94.87000275] \n",
            "Le prix de clôture prédit pour demain est :  93.18936157226562\n"
          ]
        }
      ]
    },
    {
      "cell_type": "markdown",
      "source": [
        "## Interprétation des résultats"
      ],
      "metadata": {
        "id": "T0xeBiuR7Nst"
      }
    },
    {
      "cell_type": "markdown",
      "source": [
        "Le cours réel devrait être de l'ordre de 95 euros au 03/08/2023, mais ce n'était pas le cas ni pour y_testing, ni pour pred_tomorrow.\n",
        "\n",
        "=> Il y a un problème avec l'inversion de la transformation d'échelle.\n",
        "**Solution** : utiliser la fonction scaler.inverse_transform() au lieu d'un simple facteur d'échelle scaler_factor !\n",
        "\n",
        "=> Mais ne fonctionne pas avec y_test car c'est un tableau 1D.\n",
        "**Solution** : transformer d'abord y_test en tableau 2D => y_test_2d = np.reshape(y_test, (-1, 1)), puis appliquer scaler.inverse_transform()"
      ],
      "metadata": {
        "id": "j6BtOPi0F37f"
      }
    },
    {
      "cell_type": "markdown",
      "source": [
        "Comment effectuer une prédiction sur une période future, par exemple 30 jours.\n",
        "\n",
        "Puis tracer la courbe de forecast ?"
      ],
      "metadata": {
        "id": "yMGbVNY2GWJs"
      }
    }
  ]
}